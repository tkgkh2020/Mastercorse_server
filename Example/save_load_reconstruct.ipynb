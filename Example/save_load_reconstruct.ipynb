{
 "cells": [
  {
   "cell_type": "markdown",
   "metadata": {},
   "source": [
    "# save load reconstruction"
   ]
  },
  {
   "cell_type": "markdown",
   "metadata": {},
   "source": [
    "--------------------------------------\n",
    "## 線形回帰 & save & load"
   ]
  },
  {
   "cell_type": "markdown",
   "metadata": {},
   "source": [
    "### 計算グラフ"
   ]
  },
  {
   "cell_type": "code",
   "execution_count": 1,
   "metadata": {},
   "outputs": [
    {
     "name": "stdout",
     "output_type": "stream",
     "text": [
      "Tensor(\"y_hat:0\", dtype=float32)\n",
      "Tensor(\"loss/cost:0\", shape=(), dtype=float32)\n",
      "name: \"train/train_op\"\n",
      "op: \"NoOp\"\n",
      "input: \"^train/train_op/update_weight/ApplyGradientDescent\"\n",
      "input: \"^train/train_op/update_bias/ApplyGradientDescent\"\n",
      "\n"
     ]
    }
   ],
   "source": [
    "import tensorflow as tf\n",
    "import numpy as np\n",
    "from numpy.random import *\n",
    "\n",
    "\n",
    "g = tf.Graph()\n",
    "\n",
    "\n",
    "with g.as_default():\n",
    "    \n",
    "    tf.set_random_seed(123)\n",
    "    tf_x = tf.placeholder(shape=(None), dtype=tf.float32, name='tf_x')\n",
    "    tf_y = tf.placeholder(shape=(None), dtype=tf.float32, name='tf_y')\n",
    "    \n",
    "    weight = tf.Variable(tf.random_normal(shape=(1, 1), stddev=0.25),name='weight')\n",
    "    bias = tf.Variable(0.0, name='bias')\n",
    "    \n",
    "    y_hat = tf.add(weight * tf_x, bias, name='y_hat')\n",
    "    print(y_hat)\n",
    "    \n",
    "    with tf.name_scope('loss'):\n",
    "        cost = tf.reduce_mean(tf.square(tf_y - y_hat), name='cost')\n",
    "        print(cost)\n",
    "    \n",
    "    ## train\n",
    "    with tf.name_scope('train'):\n",
    "        optim = tf.train.GradientDescentOptimizer(learning_rate=0.001)\n",
    "        train_op = optim.minimize(cost, name='train_op')\n",
    "        print(train_op)\n",
    "    \n",
    "    saver = tf.train.Saver()"
   ]
  },
  {
   "cell_type": "markdown",
   "metadata": {},
   "source": [
    "### データセット生成"
   ]
  },
  {
   "cell_type": "code",
   "execution_count": 2,
   "metadata": {},
   "outputs": [
    {
     "data": {
      "image/png": "[encoded data removed]",
      "text/plain": [
       "<matplotlib.figure.Figure at 0x7f8c98a5ba20>"
      ]
     },
     "metadata": {},
     "output_type": "display_data"
    }
   ],
   "source": [
    "import numpy as np\n",
    "import matplotlib.pyplot as plt\n",
    "\n",
    "np.random.seed(0)\n",
    "def make_random_data():\n",
    "    x = np.random.uniform(low=-2, high=4, size=200)\n",
    "    y = []\n",
    "    for t in x:\n",
    "        r = np.random.normal(loc=0.0, scale=(0.5 + t*t/3), size=None)\n",
    "        y.append(r)\n",
    "    return  x, 1.726*x -0.84 + np.array(y)\n",
    "\n",
    "x, y = make_random_data() \n",
    "\n",
    "plt.plot(x, y, 'o')\n",
    "plt.show()\n",
    "\n",
    "#トレーニングデータとテストデータに分割\n",
    "x_train, y_train = x[:100], y[:100]\n",
    "x_test, y_test = x[100:], y[100:]"
   ]
  },
  {
   "cell_type": "markdown",
   "metadata": {},
   "source": [
    "### 実行フェーズ & save(モデルの保存)"
   ]
  },
  {
   "cell_type": "code",
   "execution_count": 3,
   "metadata": {},
   "outputs": [
    {
     "name": "stdout",
     "output_type": "stream",
     "text": [
      "Epoch    0: 12.2230\n",
      "Epoch   50: 8.3876\n",
      "Epoch  100: 6.5721\n",
      "Epoch  150: 5.6844\n",
      "Epoch  200: 5.2269\n",
      "Epoch  250: 4.9725\n",
      "Epoch  300: 4.8169\n",
      "Epoch  350: 4.7119\n",
      "Epoch  400: 4.6347\n",
      "Epoch  450: 4.5742\n"
     ]
    },
    {
     "data": {
      "image/png": "[encoded data removed]",
      "text/plain": [
       "<matplotlib.figure.Figure at 0x7f8c95f607f0>"
      ]
     },
     "metadata": {},
     "output_type": "display_data"
    }
   ],
   "source": [
    "\"\"\"#トレーニングデータとテストデータに分割\n",
    "x_train, y_train = x[:100], y[:100]\n",
    "x_test, y_test = x[100:], y[100:]\"\"\"\n",
    "\n",
    "#実行フェーズ\n",
    "n_epochs = 500\n",
    "training_costs = []\n",
    "with tf.Session(graph=g) as sess:\n",
    "    #変数を初期化\n",
    "    sess.run(tf.global_variables_initializer())\n",
    "    \n",
    "    #500エポックでモデルをトレーニング\n",
    "    for e in range(n_epochs):\n",
    "        c, _ = sess.run([cost, train_op], feed_dict={tf_x: x_train, tf_y: y_train})\n",
    "        training_costs.append(c)\n",
    "        if not e % 50:\n",
    "            print('Epoch %4d: %.4f' % (e, c))\n",
    "    saver.save(sess, './savepoint/lin_reg/trained-model')   \n",
    "plt.plot(training_costs)\n",
    "plt.show()\n",
    "# plt.savefig('images/14_04.png', dpi=300)"
   ]
  },
  {
   "cell_type": "markdown",
   "metadata": {},
   "source": [
    "### 実行フェーズ & load(モデルの復元) "
   ]
  },
  {
   "cell_type": "code",
   "execution_count": 5,
   "metadata": {},
   "outputs": [
    {
     "name": "stdout",
     "output_type": "stream",
     "text": [
      "INFO:tensorflow:Restoring parameters from ./savepoint/lin_reg/trained-model\n",
      "[[1.1745166]]\n",
      "-0.3158086\n",
      "[[ 2.111799   -0.7620687   2.5161436   4.1157966  -0.9118536   1.3953962\n",
      "   1.5073366   1.3678741  -1.0927633   4.049275    0.48609525  3.2998846\n",
      "   2.2644582  -0.568774    3.0700724   0.12937367  3.5443802   1.4314461\n",
      "   3.548835    2.2154973   2.4460974   0.868041    4.0727744   1.8734212\n",
      "   0.3221069   1.6084716  -2.5295854  -0.539614    1.9874668  -0.620636\n",
      "   1.6903744   0.35673392 -1.7101426  -0.5628165   1.3517575   1.4990973\n",
      "   1.3824854   1.9383295   1.9305949   0.37540686  3.6532114  -0.0745967\n",
      "   0.40674174  3.6206307   3.0164874   2.295531   -1.958533    3.814844\n",
      "   2.3684878   4.374132   -1.6116648   3.452929   -1.519738    1.6730676\n",
      "  -1.79227     3.3111567   3.0244153   1.3456678   0.20461947 -2.177415\n",
      "   2.2500083   0.5313186   2.4235559   3.4406407   4.2097554   3.3660893\n",
      "  -2.5822914  -0.12804052  2.4794743  -1.4553504   1.0069549  -2.2819164\n",
      "  -1.2554464  -2.5343168   2.928425   -1.0868223  -0.2311141   3.8754394\n",
      "   2.2992368  -2.4404695  -1.5042257   1.7147784   1.4029455  -0.9883874\n",
      "   3.918657    1.6618373   1.1098158   1.4923124   2.4804008  -0.46653432\n",
      "   0.14146167 -1.186052   -1.352721    3.9902442   2.5468462   0.7914702\n",
      "  -1.0622282  -0.8723663  -2.2559044   0.3965354 ]]\n",
      "100\n",
      "4.5250044\n",
      "None\n"
     ]
    }
   ],
   "source": [
    "import tensorflow as tf\n",
    "import numpy as np\n",
    "from numpy.random import *\n",
    "\n",
    "g2 = tf.Graph()\n",
    "with tf.Session(graph=g2) as sess:\n",
    "    #計算グラフの復元\n",
    "    new_saver = tf.train.import_meta_graph('./savepoint/lin_reg/trained-model.meta')\n",
    "    #実行フェーズでの値の復元\n",
    "    new_saver.restore(sess, './savepoint/lin_reg/trained-model')\n",
    "    \n",
    "    w = sess.run('weight:0', feed_dict={'tf_x:0' : x_train, 'tf_y:0' : y_train})\n",
    "    print(w)\n",
    "    \n",
    "    b = sess.run('bias:0', feed_dict={'tf_x:0' : x_train, 'tf_y:0' : y_train})\n",
    "    print(b)\n",
    "    \n",
    "    y_pred = sess.run('y_hat:0', feed_dict={'tf_x:0' : x_test})\n",
    "    print(y_pred)\n",
    "    print(len(y_pred[0]))\n",
    "    \n",
    "    c = sess.run('loss/cost:0', feed_dict={'tf_x:0' : x_train, 'tf_y:0' : y_train})\n",
    "    print(c)\n",
    "    \n",
    "    t_op = sess.run('train/train_op', feed_dict={'tf_x:0' : x_train, 'tf_y:0' : y_train})\n",
    "    print(t_op)"
   ]
  },
  {
   "cell_type": "markdown",
   "metadata": {},
   "source": [
    "--------------------------------------------------------\n",
    "## NN & save & load"
   ]
  },
  {
   "cell_type": "markdown",
   "metadata": {},
   "source": [
    "### 計算グラフ"
   ]
  },
  {
   "cell_type": "code",
   "execution_count": 11,
   "metadata": {},
   "outputs": [
    {
     "name": "stdout",
     "output_type": "stream",
     "text": [
      "<tf.Variable 'layer1/weight1:0' shape=(10, 50) dtype=float32_ref> <tf.Variable 'layer1/Variable:0' shape=(50,) dtype=float32_ref> Tensor(\"layer1/Relu1:0\", shape=(?, 50), dtype=float32)\n",
      "<tf.Variable 'layer2/weight2:0' shape=(50, 50) dtype=float32_ref> <tf.Variable 'layer2/Variable:0' shape=(50,) dtype=float32_ref> Tensor(\"layer2/Relu2:0\", shape=(?, 50), dtype=float32)\n",
      "<tf.Variable 'layer3/weight3:0' shape=(50, 10) dtype=float32_ref> <tf.Variable 'layer3/Variable:0' shape=(10,) dtype=float32_ref> Tensor(\"layer3/Relu3:0\", shape=(?, 10), dtype=float32)\n",
      "<tf.Variable 'layer4/weight4:0' shape=(10, 1) dtype=float32_ref> <tf.Variable 'layer4/Variable:0' shape=(1,) dtype=float32_ref> Tensor(\"layer4/add:0\", shape=(?, 1), dtype=float32)\n",
      "Tensor(\"loss/loss:0\", shape=(), dtype=float32)\n",
      "name: \"train/Adagrad\"\n",
      "op: \"NoOp\"\n",
      "input: \"^train/Adagrad/update_layer1/weight1/ApplyAdagrad\"\n",
      "input: \"^train/Adagrad/update_layer1/Variable/ApplyAdagrad\"\n",
      "input: \"^train/Adagrad/update_layer2/weight2/ApplyAdagrad\"\n",
      "input: \"^train/Adagrad/update_layer2/Variable/ApplyAdagrad\"\n",
      "input: \"^train/Adagrad/update_layer3/weight3/ApplyAdagrad\"\n",
      "input: \"^train/Adagrad/update_layer3/Variable/ApplyAdagrad\"\n",
      "input: \"^train/Adagrad/update_layer4/weight4/ApplyAdagrad\"\n",
      "input: \"^train/Adagrad/update_layer4/Variable/ApplyAdagrad\"\n",
      "\n"
     ]
    }
   ],
   "source": [
    "import tensorflow as tf\n",
    "import numpy as np\n",
    "from numpy.random import *\n",
    "\n",
    "g = tf.Graph()\n",
    "\n",
    "with g.as_default():\n",
    "    tf.set_random_seed(123)\n",
    "    tf_x = tf.placeholder(shape=np.array([None, 10]), dtype=tf.float32, name='tf_x')\n",
    "    tf_y = tf.placeholder(shape=[None, 1], dtype=tf.float32, name='tf_y')\n",
    "    \n",
    "    with tf.name_scope('layer1'):\n",
    "        weight1 = tf.Variable(tf.random_normal([10, 50], stddev=0.25), name='weight1')\n",
    "        bias1 = tf.Variable(tf.constant(0.0, shape=[50], name='bias1'))\n",
    "        h1 = tf.nn.relu(tf.matmul(tf_x, weight1) + bias1, name='Relu1')\n",
    "        print(weight1, bias1, h1)\n",
    "    \n",
    "    with tf.name_scope('layer2'):\n",
    "        weight2 = tf.Variable(tf.random_normal([50, 50], stddev=0.25), name='weight2')\n",
    "        bias2 = tf.Variable(tf.constant(0.0, shape=[50], name='bias2'))\n",
    "        h2 = tf.nn.relu(tf.matmul(h1, weight2) + bias2, name='Relu2')\n",
    "        print(weight2, bias2, h2)\n",
    "        \n",
    "    with tf.name_scope('layer3'):\n",
    "        weight3 = tf.Variable(tf.random_normal([50, 10], stddev=0.25), name='weight3')\n",
    "        bias3 = tf.Variable(tf.constant(0.0, shape=[10], name='bias3'))\n",
    "        h3 = tf.nn.relu(tf.matmul(h2, weight3) + bias3, name='Relu3')\n",
    "        print(weight3, bias3, h3)\n",
    "    \n",
    "    with tf.name_scope('layer4'):\n",
    "        weight4 = tf.Variable(tf.random_normal([10, 1], stddev=0.25), name='weight4')\n",
    "        bias4 = tf.Variable(tf.constant(0.0, shape=[1], name='bias4'))\n",
    "        out_put = tf.matmul(h3, weight4) + bias4\n",
    "        print(weight4, bias4, out_put)\n",
    "        \n",
    "    with tf.name_scope('loss'):\n",
    "        #loss = tf.reduce_sum(tf.square(tf_y - out_put), name='loss')\n",
    "        loss = tf.reduce_mean(tf.square(tf_y - out_put), name='loss')\n",
    "        print(loss)\n",
    "    \n",
    "    with tf.name_scope('train'):\n",
    "        train_step = tf.train.AdagradOptimizer(0.05).minimize(loss)\n",
    "        print(train_step)\n",
    "    \n",
    "    # グラフを保存する．\n",
    "    saver = tf.train.Saver()"
   ]
  },
  {
   "cell_type": "markdown",
   "metadata": {},
   "source": [
    "### データ生成"
   ]
  },
  {
   "cell_type": "code",
   "execution_count": 12,
   "metadata": {},
   "outputs": [
    {
     "data": {
      "text/plain": [
       "'#トレーニングデータとテストデータに分割\\nx_train, y_train = x[:100], y[:100]\\nx_test, y_test = x[100:], y[100:]'"
      ]
     },
     "execution_count": 12,
     "metadata": {},
     "output_type": "execute_result"
    }
   ],
   "source": [
    "import numpy as np\n",
    "import matplotlib.pyplot as plt\n",
    "from mpl_toolkits.mplot3d import axes3d\n",
    "\n",
    "np.random.seed(0)\n",
    "\n",
    "\n",
    "# データを生成\n",
    "n=50000\n",
    "x_data = []\n",
    "y_data = []\n",
    "y_sample = 0\n",
    "x_data = [np.random.rand(10).astype(np.float32).tolist() for i in range(n)]\n",
    "#print(\"x_data\", x_data)\n",
    "for i in range(len(x_data)):\n",
    "    for j in range(len(x_data[i])):\n",
    "        y_sample = y_sample + x_data[i][j]**(j+1)\n",
    "    \n",
    "    y = [y_sample]\n",
    "    y_data.append(y)\n",
    "#print(\"y_data\", y_data)\n",
    "\n",
    "\n",
    "# ノイズを加える\n",
    "noise = 0.009 * np.random.randn(n)\n",
    "noise = noise.tolist()\n",
    "#print(\"noise\", noise)\n",
    "for i in range(len(y_data)):\n",
    "    y_data[i][0] = y_data[i][0] + noise[i]\n",
    "#print(\"y_data\", y_data)\n",
    "\n",
    "\n",
    "#トレーニングデータとテストデータに分割\n",
    "x_train, y_train = x_data[:int(n/2)], y_data[:int(n/2)]\n",
    "x_test, y_test = x_data[int(n/2):], y_data[int(n/2):]\n",
    "\n",
    "\n",
    "# ノイズ付きデータを3Dで描画\n",
    "\"\"\"fig = plt.figure()\n",
    "ax = fig.add_subplot(111, projection='3d')\n",
    "ax.scatter3D(np.ravel(x_data), np.ravel(x2_data), y_data)\n",
    "plt.show()\"\"\"\n",
    "\n",
    "\"\"\"#トレーニングデータとテストデータに分割\n",
    "x_train, y_train = x[:100], y[:100]\n",
    "x_test, y_test = x[100:], y[100:]\"\"\"\n"
   ]
  },
  {
   "cell_type": "markdown",
   "metadata": {},
   "source": [
    "### 実行フェーズ&モデルの保存"
   ]
  },
  {
   "cell_type": "code",
   "execution_count": null,
   "metadata": {},
   "outputs": [
    {
     "name": "stdout",
     "output_type": "stream",
     "text": [
      "Epoch    0: 852244544.0000\n",
      "Epoch   50: 227807872.0000\n"
     ]
    }
   ],
   "source": [
    "import tensorflow as tf\n",
    "import numpy as np\n",
    "from numpy.random import *\n",
    "\n",
    "\"\"\"# TensorBoardで追跡する変数を定義\n",
    "file_writer = tf.summary.FileWriter(\"logsdata/NN_reg_graph\", tf.get_default_graph())\n",
    "file_writer.close()\"\"\"\n",
    "\n",
    "#実行フェーズ\n",
    "n_epochs = 1000\n",
    "training_loss = []\n",
    "\n",
    "with tf.Session(graph=g) as sess:\n",
    "    \n",
    "    #変数を初期化\n",
    "    sess.run(tf.global_variables_initializer())\n",
    "    \n",
    "    # TensorBoardで追跡する変数を定義\n",
    "    with tf.name_scope('summary'):\n",
    "        tf.summary.scalar('loss', loss)\n",
    "        merged = tf.summary.merge_all()\n",
    "        writer = tf.summary.FileWriter('logsdata/NN_reg_graph', sess.graph)\n",
    "    \n",
    "    \n",
    "    #500エポックでモデルをトレーニング\n",
    "    for e in range(n_epochs):\n",
    "        c, _, summary = sess.run([loss, train_step, merged], feed_dict={tf_x: x_train, tf_y: y_train})\n",
    "        writer.add_summary(summary, e)\n",
    "        training_loss.append(c)\n",
    "        if not e % 50:\n",
    "            print('Epoch %4d: %.4f' % (e, c))\n",
    "    saver.save(sess, './savepoint/NN_reg/trained-model') "
   ]
  },
  {
   "cell_type": "markdown",
   "metadata": {},
   "source": [
    "### 実行フェーズ & load(モデルの復元) "
   ]
  },
  {
   "cell_type": "code",
   "execution_count": 9,
   "metadata": {},
   "outputs": [
    {
     "name": "stdout",
     "output_type": "stream",
     "text": [
      "INFO:tensorflow:Restoring parameters from ./savepoint/NN_reg/trained-model\n",
      "10\n",
      "5348308500000.0\n",
      "50\n",
      "25000\n",
      "[[4.149013  2.6905847 3.8647947 ... 2.9080243 4.0105524 2.997128 ]\n",
      " [3.6599102 2.4987288 3.4207048 ... 2.6836193 3.5561986 3.0158634]\n",
      " [3.815185  2.367787  3.8557405 ... 2.8067627 3.546585  3.1406906]\n",
      " ...\n",
      " [3.5299656 2.596297  3.066288  ... 2.4742286 2.7731423 2.9040804]\n",
      " [4.1256166 2.5867982 3.673402  ... 3.1945438 3.933383  3.1655817]\n",
      " [3.3001118 2.390193  3.4448435 ... 2.4956949 3.4469912 2.6617203]]\n"
     ]
    }
   ],
   "source": [
    "import tensorflow as tf\n",
    "import numpy as np\n",
    "from numpy.random import *\n",
    "\n",
    "g2 = tf.Graph()\n",
    "with tf.Session(graph=g2) as sess:\n",
    "    #計算グラフの復元\n",
    "    new_saver = tf.train.import_meta_graph('./savepoint/NN_reg/trained-model.meta')\n",
    "    #実行フェーズでの値の復元\n",
    "    new_saver.restore(sess, './savepoint/NN_reg/trained-model')\n",
    "    \n",
    "    w1 = sess.run('layer1/weight1:0', feed_dict={'tf_x:0' : x_test, 'tf_y:0' : y_test})\n",
    "    #print(w1)\n",
    "    print(len(w1))\n",
    "    \n",
    "    c = sess.run('loss/loss:0', feed_dict={'tf_x:0' : x_train, 'tf_y:0' : y_train})\n",
    "    print(c)\n",
    "    \n",
    "    R1 = sess.run('layer1/Relu1:0', feed_dict={'tf_x:0' : x_train, 'tf_y:0' : y_train})\n",
    "    print(len(R1[0]))\n",
    "    print(len(R1))\n",
    "    print(R1)\n",
    "    \n",
    "    \"\"\"b = sess.run('bias:0', feed_dict={'tf_x:0' : x_test, 'tf_y:0' : y_test})\n",
    "    print(b)\n",
    "    \n",
    "    y_pred = sess.run('y_hat:0', feed_dict={'tf_x:0' : x_test})\n",
    "    print(y_pred)\n",
    "    print(len(y_pred[0]))\n",
    "    \n",
    "    c = sess.run('loss/cost:0', feed_dict={'tf_x:0' : x_test, 'tf_y:0' : y_test})\n",
    "    print(c)\n",
    "    \n",
    "    t_op = sess.run('train/train_op', feed_dict={'tf_x:0' : x_test, 'tf_y:0' : y_test})\n",
    "    print(t_op)\"\"\""
   ]
  },
  {
   "cell_type": "markdown",
   "metadata": {},
   "source": [
    "------------------------------------------------------------------"
   ]
  },
  {
   "cell_type": "markdown",
   "metadata": {},
   "source": [
    "## 簡易AE & save & load"
   ]
  },
  {
   "cell_type": "markdown",
   "metadata": {},
   "source": [
    "### 計算グラフ"
   ]
  },
  {
   "cell_type": "code",
   "execution_count": 2,
   "metadata": {},
   "outputs": [
    {
     "name": "stdout",
     "output_type": "stream",
     "text": [
      "<tf.Variable 'layer1/weight1:0' shape=(40, 20) dtype=float32_ref> <tf.Variable 'layer1/Variable:0' shape=(20,) dtype=float32_ref> Tensor(\"layer1/Relu1:0\", shape=(?, 20), dtype=float32)\n",
      "<tf.Variable 'layer2/weight2:0' shape=(20, 10) dtype=float32_ref> <tf.Variable 'layer2/Variable:0' shape=(10,) dtype=float32_ref> Tensor(\"layer2/Relu2:0\", shape=(?, 10), dtype=float32)\n",
      "<tf.Variable 'layer3/weight3:0' shape=(10, 20) dtype=float32_ref> <tf.Variable 'layer3/Variable:0' shape=(20,) dtype=float32_ref> Tensor(\"layer3/Relu3:0\", shape=(?, 20), dtype=float32)\n",
      "<tf.Variable 'layer4/weight4:0' shape=(20, 40) dtype=float32_ref> <tf.Variable 'layer4/Variable:0' shape=(40,) dtype=float32_ref> Tensor(\"layer4/add:0\", shape=(?, 40), dtype=float32)\n",
      "Tensor(\"loss/loss:0\", shape=(), dtype=float32)\n",
      "name: \"train/Adagrad\"\n",
      "op: \"NoOp\"\n",
      "input: \"^train/Adagrad/update_layer1/weight1/ApplyAdagrad\"\n",
      "input: \"^train/Adagrad/update_layer1/Variable/ApplyAdagrad\"\n",
      "input: \"^train/Adagrad/update_layer2/weight2/ApplyAdagrad\"\n",
      "input: \"^train/Adagrad/update_layer2/Variable/ApplyAdagrad\"\n",
      "input: \"^train/Adagrad/update_layer3/weight3/ApplyAdagrad\"\n",
      "input: \"^train/Adagrad/update_layer3/Variable/ApplyAdagrad\"\n",
      "input: \"^train/Adagrad/update_layer4/weight4/ApplyAdagrad\"\n",
      "input: \"^train/Adagrad/update_layer4/Variable/ApplyAdagrad\"\n",
      "\n"
     ]
    }
   ],
   "source": [
    "import tensorflow as tf\n",
    "import numpy as np\n",
    "from numpy.random import *\n",
    "\n",
    "g = tf.Graph()\n",
    "\n",
    "with g.as_default():\n",
    "    tf.set_random_seed(123)\n",
    "    tf_x = tf.placeholder(shape=[None, 40], dtype=tf.float32, name='tf_x')\n",
    "    tf_y = tf.placeholder(shape=[None, 40], dtype=tf.float32, name='tf_y')\n",
    "    \n",
    "    with tf.name_scope('layer1'):\n",
    "        weight1 = tf.Variable(tf.random_normal([40, 20], stddev=0.25), name='weight1')\n",
    "        bias1 = tf.Variable(tf.constant(0.0, shape=[20], name='bias1'))\n",
    "        h1 = tf.nn.relu(tf.matmul(tf_x, weight1) + bias1, name='Relu1')\n",
    "        print(weight1, bias1, h1)\n",
    "    \n",
    "    with tf.name_scope('layer2'):\n",
    "        weight2 = tf.Variable(tf.random_normal([20, 10], stddev=0.25), name='weight2')\n",
    "        bias2 = tf.Variable(tf.constant(0.0, shape=[10], name='bias2'))\n",
    "        h2 = tf.nn.relu(tf.matmul(h1, weight2) + bias2, name='Relu2')\n",
    "        print(weight2, bias2, h2)\n",
    "        \n",
    "    with tf.name_scope('layer3'):\n",
    "        weight3 = tf.Variable(tf.random_normal([10, 20], stddev=0.25), name='weight3')\n",
    "        bias3 = tf.Variable(tf.constant(0.0, shape=[20], name='bias3'))\n",
    "        h3 = tf.nn.relu(tf.matmul(h2, weight3) + bias3, name='Relu3')\n",
    "        print(weight3, bias3, h3)\n",
    "    \n",
    "    with tf.name_scope('layer4'):\n",
    "        weight4 = tf.Variable(tf.random_normal([20, 40], stddev=0.25), name='weight4')\n",
    "        bias4 = tf.Variable(tf.constant(0.0, shape=[40], name='bias4'))\n",
    "        out_put = tf.matmul(h3, weight4) + bias4\n",
    "        print(weight4, bias4, out_put)\n",
    "        \n",
    "    with tf.name_scope('loss'):\n",
    "        #loss = tf.reduce_sum(tf.square(tf_y - out_put), name='loss')\n",
    "        loss = tf.reduce_mean(tf.square(tf_y - out_put), name='loss')\n",
    "        print(loss)\n",
    "    \n",
    "    with tf.name_scope('train'):\n",
    "        train_step = tf.train.AdagradOptimizer(0.05).minimize(loss)\n",
    "        print(train_step)\n",
    "    \n",
    "    # グラフを保存する．\n",
    "    saver = tf.train.Saver()"
   ]
  },
  {
   "cell_type": "markdown",
   "metadata": {},
   "source": [
    "### データ生成"
   ]
  },
  {
   "cell_type": "code",
   "execution_count": 2,
   "metadata": {},
   "outputs": [],
   "source": [
    "import numpy as np\n",
    "import matplotlib.pyplot as plt\n",
    "#from mpl_toolkits.mplot3d import axes3d\n",
    "\n",
    "np.random.seed(0)\n",
    "\n",
    "# データを生成\n",
    "n=5000\n",
    "x_data = []\n",
    "y_data = []\n",
    "y_sample = 0\n",
    "\n",
    "x_data = [np.random.rand(40).astype(np.float32).tolist() for i in range(n)]\n",
    "y_data = x_data\n",
    "\n",
    "#print(x_data)\n",
    "\n",
    "#トレーニングデータとテストデータに分割\n",
    "x_train, y_train = x_data[:int(n/2)], y_data[:int(n/2)]\n",
    "x_test, y_test = x_data[int(n/2):], y_data[int(n/2):]"
   ]
  },
  {
   "cell_type": "markdown",
   "metadata": {},
   "source": [
    "### データ生成(numpy vr)"
   ]
  },
  {
   "cell_type": "code",
   "execution_count": 4,
   "metadata": {},
   "outputs": [
    {
     "name": "stdout",
     "output_type": "stream",
     "text": [
      "(2500, 40)\n",
      "[0.21776986 0.5872497  0.9876133  0.95086706 0.34297147 0.39389324\n",
      " 0.58573127 0.31384096 0.8532363  0.53031355 0.73691595 0.23933497\n",
      " 0.81544936 0.41063762 0.37707666 0.7205919  0.6962916  0.3735121\n",
      " 0.8857305  0.7654406  0.43635872 0.9686855  0.9297624  0.15911104\n",
      " 0.7255248  0.5989313  0.14331982 0.06272644 0.3566263  0.71137244\n",
      " 0.3667841  0.23897153 0.3331989  0.53158814 0.5655255  0.25363734\n",
      " 0.33481973 0.5720237  0.3346128  0.7364394 ]\n",
      "[[0.5488135  0.71518934 0.60276335 ... 0.616934   0.94374806 0.6818203 ]\n",
      " [0.3595079  0.43703195 0.6976312  ... 0.12019656 0.2961402  0.11872772]\n",
      " [0.31798318 0.41426298 0.06414749 ... 0.5812729  0.8817354  0.6925316 ]\n",
      " ...\n",
      " [0.7101511  0.94323754 0.7735337  ... 0.9972067  0.2578986  0.25846928]\n",
      " [0.7548734  0.77403647 0.41100332 ... 0.7337485  0.54450655 0.6079418 ]\n",
      " [0.18825035 0.52575684 0.83738714 ... 0.81013286 0.5510323  0.22575586]]\n"
     ]
    }
   ],
   "source": [
    "import numpy as np\n",
    "\n",
    "np.random.seed(0)\n",
    "\n",
    "# データを生成\n",
    "n=5000\n",
    "\n",
    "x_data = np.array([np.random.rand(40).astype(np.float32) for i in range(n)])\n",
    "y_data = x_data\n",
    "\n",
    "#print(x_data)\n",
    "\n",
    "#トレーニングデータとテストデータに分割\n",
    "x_train, x_test = np.split(x_data,   [int(n/2)]) # 教師データ\n",
    "y_train, y_test = np.split(y_data, [int(n/2)]) # テスト用のデータ\n",
    "\n",
    "print(x_train.shape)\n",
    "print(np.random.rand(40).astype(np.float32))\n",
    "print(x_train)"
   ]
  },
  {
   "cell_type": "markdown",
   "metadata": {},
   "source": [
    "### 実行フェーズ&モデルの保存"
   ]
  },
  {
   "cell_type": "code",
   "execution_count": 5,
   "metadata": {},
   "outputs": [
    {
     "name": "stdout",
     "output_type": "stream",
     "text": [
      "Epoch    0: 0.3280\n",
      "Epoch   50: 0.1149\n",
      "Epoch  100: 0.0882\n",
      "Epoch  150: 0.0857\n",
      "Epoch  200: 0.0847\n",
      "Epoch  250: 0.0840\n",
      "Epoch  300: 0.0835\n",
      "Epoch  350: 0.0832\n",
      "Epoch  400: 0.0829\n",
      "Epoch  450: 0.0826\n",
      "Epoch  500: 0.0824\n",
      "Epoch  550: 0.0822\n",
      "Epoch  600: 0.0820\n",
      "Epoch  650: 0.0818\n",
      "Epoch  700: 0.0817\n",
      "Epoch  750: 0.0815\n",
      "Epoch  800: 0.0814\n",
      "Epoch  850: 0.0812\n",
      "Epoch  900: 0.0811\n",
      "Epoch  950: 0.0810\n",
      "Epoch 1000: 0.0809\n",
      "Epoch 1050: 0.0808\n",
      "Epoch 1100: 0.0806\n",
      "Epoch 1150: 0.0805\n",
      "Epoch 1200: 0.0804\n",
      "Epoch 1250: 0.0803\n",
      "Epoch 1300: 0.0802\n",
      "Epoch 1350: 0.0801\n",
      "Epoch 1400: 0.0800\n",
      "Epoch 1450: 0.0799\n",
      "Epoch 1500: 0.0798\n",
      "Epoch 1550: 0.0797\n",
      "Epoch 1600: 0.0796\n",
      "Epoch 1650: 0.0795\n",
      "Epoch 1700: 0.0794\n",
      "Epoch 1750: 0.0793\n",
      "Epoch 1800: 0.0792\n",
      "Epoch 1850: 0.0792\n",
      "Epoch 1900: 0.0791\n",
      "Epoch 1950: 0.0790\n",
      "Epoch 2000: 0.0789\n",
      "Epoch 2050: 0.0789\n",
      "Epoch 2100: 0.0788\n",
      "Epoch 2150: 0.0787\n",
      "Epoch 2200: 0.0787\n",
      "Epoch 2250: 0.0786\n",
      "Epoch 2300: 0.0786\n",
      "Epoch 2350: 0.0785\n",
      "Epoch 2400: 0.0785\n",
      "Epoch 2450: 0.0784\n",
      "Epoch 2500: 0.0784\n",
      "Epoch 2550: 0.0783\n",
      "Epoch 2600: 0.0783\n",
      "Epoch 2650: 0.0782\n",
      "Epoch 2700: 0.0782\n",
      "Epoch 2750: 0.0782\n",
      "Epoch 2800: 0.0781\n",
      "Epoch 2850: 0.0781\n",
      "Epoch 2900: 0.0780\n",
      "Epoch 2950: 0.0780\n",
      "Epoch 3000: 0.0780\n",
      "Epoch 3050: 0.0779\n",
      "Epoch 3100: 0.0779\n",
      "Epoch 3150: 0.0779\n",
      "Epoch 3200: 0.0779\n",
      "Epoch 3250: 0.0778\n",
      "Epoch 3300: 0.0778\n",
      "Epoch 3350: 0.0778\n",
      "Epoch 3400: 0.0778\n",
      "Epoch 3450: 0.0777\n",
      "Epoch 3500: 0.0777\n",
      "Epoch 3550: 0.0777\n",
      "Epoch 3600: 0.0777\n",
      "Epoch 3650: 0.0777\n",
      "Epoch 3700: 0.0776\n",
      "Epoch 3750: 0.0776\n",
      "Epoch 3800: 0.0776\n",
      "Epoch 3850: 0.0776\n",
      "Epoch 3900: 0.0776\n",
      "Epoch 3950: 0.0775\n",
      "Epoch 4000: 0.0775\n",
      "Epoch 4050: 0.0775\n",
      "Epoch 4100: 0.0775\n",
      "Epoch 4150: 0.0775\n",
      "Epoch 4200: 0.0775\n",
      "Epoch 4250: 0.0775\n",
      "Epoch 4300: 0.0774\n",
      "Epoch 4350: 0.0774\n",
      "Epoch 4400: 0.0774\n",
      "Epoch 4450: 0.0774\n",
      "Epoch 4500: 0.0774\n",
      "Epoch 4550: 0.0774\n",
      "Epoch 4600: 0.0774\n",
      "Epoch 4650: 0.0774\n",
      "Epoch 4700: 0.0774\n",
      "Epoch 4750: 0.0773\n",
      "Epoch 4800: 0.0773\n",
      "Epoch 4850: 0.0773\n",
      "Epoch 4900: 0.0773\n",
      "Epoch 4950: 0.0773\n"
     ]
    }
   ],
   "source": [
    "import tensorflow as tf\n",
    "import numpy as np\n",
    "from numpy.random import *\n",
    "\n",
    "\n",
    "#実行フェーズ\n",
    "n_epochs = 5000\n",
    "training_loss = []\n",
    "\n",
    "with tf.Session(graph=g) as sess:\n",
    "    \n",
    "    #変数を初期化\n",
    "    sess.run(tf.global_variables_initializer())\n",
    "    \n",
    "    # TensorBoardで追跡する変数を定義\n",
    "    with tf.name_scope('summary'):\n",
    "        tf.summary.scalar('loss', loss)\n",
    "        merged = tf.summary.merge_all()\n",
    "        writer = tf.summary.FileWriter('logsdata/simple_AE_graph', sess.graph)\n",
    "    \n",
    "    \n",
    "    #500エポックでモデルをトレーニング\n",
    "    for e in range(n_epochs):\n",
    "        c, _, summary = sess.run([loss, train_step, merged], feed_dict={tf_x: x_train, tf_y: y_train})\n",
    "        writer.add_summary(summary, e)\n",
    "        training_loss.append(c)\n",
    "        if not e % 50:\n",
    "            print('Epoch %4d: %.4f' % (e, c))\n",
    "    saver.save(sess, './savepoint/simple_AE_graph/trained-model') "
   ]
  },
  {
   "cell_type": "markdown",
   "metadata": {},
   "source": [
    "### 実行フェーズ&モデルの復元"
   ]
  },
  {
   "cell_type": "code",
   "execution_count": 4,
   "metadata": {},
   "outputs": [
    {
     "name": "stdout",
     "output_type": "stream",
     "text": [
      "INFO:tensorflow:Restoring parameters from ./savepoint/simple_AE_graph/trained-model\n",
      "40\n",
      "訓練誤差 0.07729195\n",
      "テスト誤差 0.07745103\n",
      "20\n",
      "2500\n",
      "[[0.93561393 0.05866493 0.         ... 0.81629837 0.         4.3658633 ]\n",
      " [0.43313083 0.82458234 0.         ... 1.2119682  0.         3.0375082 ]\n",
      " [1.1914585  0.09024311 0.         ... 0.85157084 0.         3.5702841 ]\n",
      " ...\n",
      " [0.8260926  0.49821252 0.         ... 0.77290535 0.         3.2363405 ]\n",
      " [1.6610391  0.         0.         ... 0.10277878 0.         3.7679846 ]\n",
      " [0.7729895  0.7262992  0.         ... 0.34468395 0.         3.1470954 ]]\n"
     ]
    }
   ],
   "source": [
    "import tensorflow as tf\n",
    "import numpy as np\n",
    "from numpy.random import *\n",
    "\n",
    "g2 = tf.Graph()\n",
    "with tf.Session(graph=g2) as sess:\n",
    "    #計算グラフの復元\n",
    "    new_saver = tf.train.import_meta_graph('./savepoint/simple_AE_graph/trained-model.meta')\n",
    "    #実行フェーズでの値の復元\n",
    "    new_saver.restore(sess, './savepoint/simple_AE_graph/trained-model')\n",
    "    \n",
    "    w1 = sess.run('layer1/weight1:0', feed_dict={'tf_x:0' : x_test, 'tf_y:0' : y_test})\n",
    "    #print(w1)\n",
    "    print(len(w1))\n",
    "    \n",
    "    lo_train = sess.run('loss/loss:0', feed_dict={'tf_x:0' : x_train, 'tf_y:0' : y_train})\n",
    "    print(\"訓練誤差\",lo_train)\n",
    "    \n",
    "    lo_test = sess.run('loss/loss:0', feed_dict={'tf_x:0' : x_test, 'tf_y:0' : y_test})\n",
    "    print(\"テスト誤差\",lo_test)\n",
    "    \n",
    "    R1 = sess.run('layer1/Relu1:0', feed_dict={'tf_x:0' : x_train, 'tf_y:0' : y_train})\n",
    "    print(len(R1[0]))\n",
    "    print(len(R1))\n",
    "    print(R1)\n",
    "    \n",
    "    \"\"\"b = sess.run('bias:0', feed_dict={'tf_x:0' : x_test, 'tf_y:0' : y_test})\n",
    "    print(b)\n",
    "    \n",
    "    y_pred = sess.run('y_hat:0', feed_dict={'tf_x:0' : x_test})\n",
    "    print(y_pred)\n",
    "    print(len(y_pred[0]))\n",
    "    \n",
    "    c = sess.run('loss/cost:0', feed_dict={'tf_x:0' : x_test, 'tf_y:0' : y_test})\n",
    "    print(c)\n",
    "    \n",
    "    t_op = sess.run('train/train_op', feed_dict={'tf_x:0' : x_test, 'tf_y:0' : y_test})\n",
    "    print(t_op)\"\"\""
   ]
  },
  {
   "cell_type": "markdown",
   "metadata": {},
   "source": [
    "--------------------------------------------------------------------"
   ]
  }
 ],
 "metadata": {
  "kernelspec": {
   "display_name": "Python 3",
   "language": "python",
   "name": "python3"
  },
  "language_info": {
   "codemirror_mode": {
    "name": "ipython",
    "version": 3
   },
   "file_extension": ".py",
   "mimetype": "text/x-python",
   "name": "python",
   "nbconvert_exporter": "python",
   "pygments_lexer": "ipython3",
   "version": "3.6.3"
  }
 },
 "nbformat": 4,
 "nbformat_minor": 2
}
