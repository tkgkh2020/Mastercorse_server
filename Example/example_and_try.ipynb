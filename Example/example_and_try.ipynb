{
 "cells": [
  {
   "cell_type": "code",
   "execution_count": 2,
   "metadata": {},
   "outputs": [
    {
     "name": "stdout",
     "output_type": "stream",
     "text": [
      "[[[ 0.  1.  2.  3.  4.]\n",
      "  [ 5.  6.  7.  8.  9.]\n",
      "  [10. 11. 12. 13. 14.]\n",
      "  [15. 16. 17. 18. 19.]]\n",
      "\n",
      " [[20. 21. 22. 23. 24.]\n",
      "  [25. 26. 27. 28. 29.]\n",
      "  [30. 31. 32. 33. 34.]\n",
      "  [35. 36. 37. 38. 39.]]\n",
      "\n",
      " [[40. 41. 42. 43. 44.]\n",
      "  [45. 46. 47. 48. 49.]\n",
      "  [50. 51. 52. 53. 54.]\n",
      "  [55. 56. 57. 58. 59.]]]\n"
     ]
    }
   ],
   "source": [
    "import tensorflow as tf\n",
    "import numpy as np\n",
    "\n",
    "x = tf.constant(np.arange(60.),shape=[3,4,5],dtype=tf.float32)    \n",
    "with tf.Session() as sess:\n",
    "    print(x.eval())"
   ]
  },
  {
   "cell_type": "code",
   "execution_count": 12,
   "metadata": {},
   "outputs": [
    {
     "name": "stdout",
     "output_type": "stream",
     "text": [
      "<class 'tensorflow.python.framework.tensor_shape.TensorShape'>\n",
      "(3, 4, 5)\n",
      "\n",
      "<class 'list'>\n",
      "[3, 4, 5]\n",
      "\n",
      "4\n",
      "5\n",
      "20\n",
      "<class 'tensorflow.python.framework.tensor_shape.Dimension'>\n",
      "<class 'int'>\n"
     ]
    }
   ],
   "source": [
    "import tensorflow as tf\n",
    "\n",
    "s = x.get_shape()\n",
    "s2 = x.get_shape().as_list()\n",
    "print(type(s))\n",
    "print(s)\n",
    "\n",
    "print()\n",
    "\n",
    "s2 = x.get_shape().as_list()\n",
    "print(type(s2))\n",
    "print(s2)\n",
    "\n",
    "print()\n",
    "\n",
    "result_w = x.shape[1]\n",
    "result_h = x.shape[2]\n",
    "x3 = result_w * result_h\n",
    "print(result_w)\n",
    "print(result_h)\n",
    "print(x3.value)\n",
    "print(type(x3))\n",
    "print(type(x3.value))"
   ]
  },
  {
   "cell_type": "markdown",
   "metadata": {},
   "source": [
    "### argmin argmax"
   ]
  },
  {
   "cell_type": "markdown",
   "metadata": {},
   "source": [
    "#### 次数1の場合，行ごと最大の値の添字になる"
   ]
  },
  {
   "cell_type": "code",
   "execution_count": 10,
   "metadata": {},
   "outputs": [
    {
     "data": {
      "text/plain": [
       "array([3, 1, 2])"
      ]
     },
     "execution_count": 10,
     "metadata": {},
     "output_type": "execute_result"
    }
   ],
   "source": [
    "import tensorflow as tf\n",
    "import numpy as np\n",
    "\n",
    "sess = tf.Session()\n",
    "Y = np.array([[0.1, 0.2, 0.3, 0.4],\n",
    "              [0.0, 0.8, 0.2, 0.0],\n",
    "              [0.0, 0.4, 0.5, 0.1]\n",
    "             ])\n",
    "sess.run(tf.argmax(Y, 1))"
   ]
  },
  {
   "cell_type": "markdown",
   "metadata": {},
   "source": [
    "### tf.equal()"
   ]
  },
  {
   "cell_type": "markdown",
   "metadata": {},
   "source": [
    "#### 渡されたベクトルが一致しているか否かを見る"
   ]
  },
  {
   "cell_type": "code",
   "execution_count": 16,
   "metadata": {},
   "outputs": [
    {
     "data": {
      "text/plain": [
       "array([ True, False, False])"
      ]
     },
     "execution_count": 16,
     "metadata": {},
     "output_type": "execute_result"
    }
   ],
   "source": [
    "import tensorflow as tf\n",
    "import numpy as np\n",
    "\n",
    "sess = tf.Session()\n",
    "Y = np.array([[0.1, 0.2, 0.3, 0.4],\n",
    "              [0.0, 0.8, 0.2, 0.0],\n",
    "              [0.0, 0.4, 0.5, 0.1]\n",
    "             ])\n",
    "\n",
    "Y_ = np.array([[0, 0, 0, 1],\n",
    "              [0, 0, 0, 1],\n",
    "              [0, 0, 0, 1]\n",
    "             ])\n",
    "\n",
    "sess.run(tf.equal(tf.argmax(Y, 1), tf.argmax(Y_, 1)))"
   ]
  },
  {
   "cell_type": "markdown",
   "metadata": {},
   "source": [
    "### tf.cast()"
   ]
  },
  {
   "cell_type": "markdown",
   "metadata": {},
   "source": [
    "#### tf.cast(変換したいもの，変換後の型)"
   ]
  },
  {
   "cell_type": "code",
   "execution_count": 28,
   "metadata": {},
   "outputs": [
    {
     "data": {
      "text/plain": [
       "array([1., 0., 0.], dtype=float32)"
      ]
     },
     "execution_count": 28,
     "metadata": {},
     "output_type": "execute_result"
    }
   ],
   "source": [
    "import tensorflow as tf\n",
    "import numpy as np\n",
    "\n",
    "sess = tf.Session()\n",
    "predict = np.array([ True, False, False])\n",
    "\n",
    "sess.run(tf.cast(predict, tf.float32))\n",
    "#print(sess.run(tf.cast(predict, tf.float32)))"
   ]
  },
  {
   "cell_type": "markdown",
   "metadata": {},
   "source": [
    "### tf.reduce_mean()"
   ]
  },
  {
   "cell_type": "markdown",
   "metadata": {},
   "source": [
    "#### 与えたリストに入っている数値の平均を求める関数"
   ]
  },
  {
   "cell_type": "code",
   "execution_count": 24,
   "metadata": {},
   "outputs": [
    {
     "data": {
      "text/plain": [
       "0.33333334"
      ]
     },
     "execution_count": 24,
     "metadata": {},
     "output_type": "execute_result"
    }
   ],
   "source": [
    "import tensorflow as tf\n",
    "import numpy as np\n",
    "\n",
    "sess = tf.Session()\n",
    "predict = np.array([ True, False, False])\n",
    "correct_prediction = tf.cast(predict, tf.float32)\n",
    "accuracy = tf.reduce_mean(correct_prediction)\n",
    "sess.run(accuracy)"
   ]
  },
  {
   "cell_type": "markdown",
   "metadata": {},
   "source": [
    "### np.split()"
   ]
  },
  {
   "cell_type": "code",
   "execution_count": 56,
   "metadata": {},
   "outputs": [
    {
     "name": "stdout",
     "output_type": "stream",
     "text": [
      "[0. 1. 2. 3. 4. 5. 6. 7. 8.]\n",
      "[array([0., 1., 2.]), array([3., 4., 5.]), array([6., 7., 8.])]\n",
      "\n",
      "[array([[ 0,  1,  2,  3,  4,  5],\n",
      "       [ 6,  7,  8,  9, 10, 11]]), array([[12, 13, 14, 15, 16, 17],\n",
      "       [18, 19, 20, 21, 22, 23]]), array([[24, 25, 26, 27, 28, 29],\n",
      "       [30, 31, 32, 33, 34, 35]])]\n",
      "\n",
      "[array([[ 0,  1,  2,  3,  4,  5],\n",
      "       [ 6,  7,  8,  9, 10, 11],\n",
      "       [12, 13, 14, 15, 16, 17],\n",
      "       [18, 19, 20, 21, 22, 23]]), array([[24, 25, 26, 27, 28, 29],\n",
      "       [30, 31, 32, 33, 34, 35]])]\n"
     ]
    }
   ],
   "source": [
    "import numpy as np\n",
    "\n",
    "x = np.arange(9.0)\n",
    "print(x)\n",
    "\n",
    "y = np.split(x, 3)\n",
    "print(y)\n",
    "print()\n",
    "z = np.array([[0,1,2,3,4,5],[6,7,8,9,10,11],[12,13,14,15,16,17],[18,19,20,21,22,23],[24,25,26,27,28,29],[30,31,32,33,34,35]])\n",
    "zz = np.split(z, 3)\n",
    "zzz = np.split(z, [4])\n",
    "print(zz)\n",
    "print()\n",
    "print(zzz)"
   ]
  },
  {
   "cell_type": "markdown",
   "metadata": {},
   "source": [
    "### np.eye()"
   ]
  },
  {
   "cell_type": "markdown",
   "metadata": {},
   "source": [
    "#### 単位行列を生成するnumpyのAPI"
   ]
  },
  {
   "cell_type": "code",
   "execution_count": 66,
   "metadata": {},
   "outputs": [
    {
     "name": "stdout",
     "output_type": "stream",
     "text": [
      "[1 5]\n",
      "[ 6  3  2  4 10  9  6  8]\n",
      "\n",
      "5\n",
      "\n"
     ]
    },
    {
     "data": {
      "text/plain": [
       "array([[0., 1., 0., 0., 0., 0.],\n",
       "       [0., 0., 0., 0., 0., 1.]])"
      ]
     },
     "execution_count": 66,
     "metadata": {},
     "output_type": "execute_result"
    }
   ],
   "source": [
    "import numpy as np\n",
    "\n",
    "z = [1,2,3,4,5,6,7,8,9,10]\n",
    "zy =[1,5,6,3,2,4,10,9,6,8]\n",
    "\n",
    "z1, z2 = np.split(zy, [2])\n",
    "\n",
    "print(z1)\n",
    "print(z2)\n",
    "print()\n",
    "\n",
    "mz = np.max(z1)\n",
    "print(mz)\n",
    "print()\n",
    "\n",
    "zzz = np.eye(np.max(z1)+1)[z1]\n",
    "zzz"
   ]
  },
  {
   "cell_type": "code",
   "execution_count": 5,
   "metadata": {},
   "outputs": [
    {
     "data": {
      "text/plain": [
       "matrix([[1.]])"
      ]
     },
     "execution_count": 5,
     "metadata": {},
     "output_type": "execute_result"
    }
   ],
   "source": [
    "import numpy as np\n",
    "\n",
    "umo = np.mat(np.eye(1))\n",
    "umo"
   ]
  },
  {
   "cell_type": "markdown",
   "metadata": {},
   "source": [
    "### np.random.permutation()"
   ]
  },
  {
   "cell_type": "code",
   "execution_count": 91,
   "metadata": {},
   "outputs": [
    {
     "name": "stdout",
     "output_type": "stream",
     "text": [
      "[8 6 7 9 3 1 0 4 2 5]\n"
     ]
    }
   ],
   "source": [
    "import numpy as np\n",
    "N=10\n",
    "x = np.random.permutation(N)\n",
    "\n",
    "print(x)"
   ]
  },
  {
   "cell_type": "markdown",
   "metadata": {},
   "source": [
    "### np.matrix()"
   ]
  },
  {
   "cell_type": "code",
   "execution_count": 138,
   "metadata": {},
   "outputs": [
    {
     "name": "stdout",
     "output_type": "stream",
     "text": [
      "[[1 2]\n",
      " [3 4]]\n",
      "\n",
      "matrix同士の積\n",
      "[[ 7 10]\n",
      " [15 22]]\n",
      "\n",
      "[[6 2]\n",
      " [3 4]]\n",
      "\n",
      "aに変更を加えた後のm\n",
      "[[1 2]\n",
      " [3 4]]\n"
     ]
    }
   ],
   "source": [
    "import numpy as np\n",
    "\n",
    "m = np.matrix([[1,2],[3,4]])\n",
    "print(m)\n",
    "print()\n",
    "m_to=m*m\n",
    "print(\"matrix同士の積\\n%s\\n\" %m_to)\n",
    "\n",
    "a = np.matrix(m)\n",
    "a[0,0]=6\n",
    "print(a)\n",
    "print()\n",
    "print(\"aに変更を加えた後のm\")\n",
    "print(m)"
   ]
  },
  {
   "cell_type": "markdown",
   "metadata": {},
   "source": [
    "### np.mat()"
   ]
  },
  {
   "cell_type": "code",
   "execution_count": 139,
   "metadata": {},
   "outputs": [
    {
     "name": "stdout",
     "output_type": "stream",
     "text": [
      "[[1 2]\n",
      " [3 4]]\n",
      "\n",
      "mat同士の積\n",
      "[[ 7 10]\n",
      " [15 22]]\n",
      "\n",
      "[[6 2]\n",
      " [3 4]]\n",
      "\n",
      "aに変更を加えた後のm\n",
      "[[6 2]\n",
      " [3 4]]\n"
     ]
    }
   ],
   "source": [
    "import numpy as np\n",
    "\n",
    "m = np.mat([[1,2],[3,4]])\n",
    "print(m)\n",
    "print()\n",
    "m_to=m*m\n",
    "print(\"mat同士の積\\n%s\\n\" %m_to)\n",
    "\n",
    "a = np.mat(m)\n",
    "a[0,0]=6\n",
    "print(a)\n",
    "print()\n",
    "print(\"aに変更を加えた後のm\")\n",
    "print(m)"
   ]
  },
  {
   "cell_type": "markdown",
   "metadata": {},
   "source": [
    "### np.array()"
   ]
  },
  {
   "cell_type": "code",
   "execution_count": 140,
   "metadata": {},
   "outputs": [
    {
     "name": "stdout",
     "output_type": "stream",
     "text": [
      "[[1 2]\n",
      " [3 4]]\n",
      "\n",
      "array同士の積\n",
      "[[ 1  4]\n",
      " [ 9 16]]\n",
      "\n",
      "[[6 2]\n",
      " [3 4]]\n",
      "\n",
      "aに変更を加えた後のm\n",
      "[[1 2]\n",
      " [3 4]]\n"
     ]
    }
   ],
   "source": [
    "import numpy as np\n",
    "\n",
    "m = np.array([[1,2],[3,4]])\n",
    "print(m)\n",
    "print()\n",
    "m_to=m*m\n",
    "print(\"array同士の積\\n%s\\n\" %m_to)\n",
    "\n",
    "a = np.array(m)\n",
    "a[0,0]=6\n",
    "print(a)\n",
    "print()\n",
    "print(\"aに変更を加えた後のm\")\n",
    "print(m)"
   ]
  },
  {
   "cell_type": "markdown",
   "metadata": {},
   "source": [
    "### np.random.rand()"
   ]
  },
  {
   "cell_type": "code",
   "execution_count": 32,
   "metadata": {},
   "outputs": [
    {
     "name": "stdout",
     "output_type": "stream",
     "text": [
      "[[0.10574885]\n",
      " [0.15900077]]\n",
      "\n",
      "[[0.06311785 0.5307989 ]\n",
      " [0.85281309 0.14795047]]\n",
      "\n",
      "[[0.06311785 0.69180599]\n",
      " [0.69180599 0.14795047]]\n"
     ]
    }
   ],
   "source": [
    "import numpy as np\n",
    "v = np.random.rand(2, 1)\n",
    "print(v)\n",
    "print()\n",
    "\n",
    "a = np.random.rand(2, 2)\n",
    "print(a)\n",
    "print()\n",
    "\n",
    "a_d = (a + a.T)/2\n",
    "print(a_d)"
   ]
  },
  {
   "cell_type": "markdown",
   "metadata": {},
   "source": [
    "### range()"
   ]
  },
  {
   "cell_type": "code",
   "execution_count": 41,
   "metadata": {},
   "outputs": [
    {
     "name": "stdout",
     "output_type": "stream",
     "text": [
      "[ 0  1  2  3  4  5  6  7  8  9 10 11 12 13 14 15 16 17 18 19]\n",
      "\n",
      "19 + 18\n",
      "18 + 17\n",
      "17 + 16\n",
      "16 + 15\n",
      "15 + 14\n",
      "14 + 13\n",
      "13 + 12\n",
      "12 + 11\n",
      "11 + 10\n",
      "10 + 9\n",
      "9 + 8\n",
      "8 + 7\n",
      "7 + 6\n",
      "6 + 5\n",
      "5 + 4\n",
      "4 + 3\n",
      "3 + 2\n",
      "2 + 1\n",
      "1 + 0\n"
     ]
    }
   ],
   "source": [
    "import numpy as np\n",
    "\n",
    "a = np.arange(20)\n",
    "print(a)\n",
    "print()\n",
    "\n",
    "T = len(a)\n",
    "for t in range(T-1, 0, -1):\n",
    "    \n",
    "    print(a[t],\"+\",a[t-1])"
   ]
  },
  {
   "cell_type": "markdown",
   "metadata": {},
   "source": [
    "### np.eye(*A.shape)"
   ]
  },
  {
   "cell_type": "markdown",
   "metadata": {},
   "source": [
    "#### *はタプル型を整数型に変える　ただし，タプルやリスト，print()外で用いることはできない．"
   ]
  },
  {
   "cell_type": "code",
   "execution_count": 65,
   "metadata": {},
   "outputs": [
    {
     "name": "stdout",
     "output_type": "stream",
     "text": [
      "[[0.24091827 0.86837033]\n",
      " [0.93962429 0.08997648]]\n",
      "\n",
      "[[1. 0.]\n",
      " [0. 1.]]\n",
      "\n",
      "(2, 2)\n",
      "2 2\n",
      "\n",
      "(1, 2, 3, 4)\n",
      "1 2 3 4\n"
     ]
    },
    {
     "data": {
      "text/plain": [
       "[1, 2, 3, 4]"
      ]
     },
     "execution_count": 65,
     "metadata": {},
     "output_type": "execute_result"
    }
   ],
   "source": [
    "import numpy as np\n",
    "\n",
    "A = np.random.rand(2, 2)\n",
    "print(A)\n",
    "print()\n",
    "\n",
    "#I = np.mat(np.eye(*A.shape))\n",
    "I = np.eye(*A.shape)\n",
    "\n",
    "print(I)\n",
    "print()\n",
    "\n",
    "As = A.shape\n",
    "print(As)\n",
    "print(*A.shape)\n",
    "print()\n",
    "\n",
    "x =(1,2,3,4)\n",
    "print(x)\n",
    "print(*x)"
   ]
  },
  {
   "cell_type": "markdown",
   "metadata": {},
   "source": [
    "### np.eye() NO.2"
   ]
  },
  {
   "cell_type": "code",
   "execution_count": 67,
   "metadata": {},
   "outputs": [
    {
     "data": {
      "text/plain": [
       "array([[1., 0.],\n",
       "       [0., 1.]])"
      ]
     },
     "execution_count": 67,
     "metadata": {},
     "output_type": "execute_result"
    }
   ],
   "source": [
    "import numpy as np\n",
    "\n",
    "n = np.eye(2,2)\n",
    "n"
   ]
  },
  {
   "cell_type": "markdown",
   "metadata": {},
   "source": [
    "### os.path.isdir()　os.path.exists()　&　os.makedirs()"
   ]
  },
  {
   "cell_type": "markdown",
   "metadata": {},
   "source": [
    "#### ディレクトリ内にパスが存在するかどうか調べる． &　ディレクトリを作る"
   ]
  },
  {
   "cell_type": "code",
   "execution_count": 3,
   "metadata": {},
   "outputs": [
    {
     "name": "stdout",
     "output_type": "stream",
     "text": [
      "True\n",
      "True\n"
     ]
    }
   ],
   "source": [
    "import os\n",
    "\n",
    "path = './tmp/'\n",
    "print(os.path.isdir(path))\n",
    "print(os.path.exists(path))"
   ]
  },
  {
   "cell_type": "code",
   "execution_count": 4,
   "metadata": {},
   "outputs": [],
   "source": [
    "import os\n",
    "\n",
    "path = './model/'\n",
    "if not os.path.isdir(path):\n",
    "    os.makedirs(path)"
   ]
  },
  {
   "cell_type": "markdown",
   "metadata": {},
   "source": [
    "### tf.get_variable()"
   ]
  },
  {
   "cell_type": "code",
   "execution_count": 6,
   "metadata": {},
   "outputs": [
    {
     "name": "stdout",
     "output_type": "stream",
     "text": [
      "<tf.Variable 'w:0' shape=(3,) dtype=float32_ref>\n"
     ]
    }
   ],
   "source": [
    "import tensorflow as tf\n",
    "\n",
    "unit=3\n",
    "\n",
    "w = tf.get_variable(\"w\", shape=[3], initializer = tf.zeros_initializer)\n",
    "print(w)"
   ]
  },
  {
   "cell_type": "markdown",
   "metadata": {},
   "source": [
    "### []の演算"
   ]
  },
  {
   "cell_type": "code",
   "execution_count": 29,
   "metadata": {},
   "outputs": [
    {
     "data": {
      "text/plain": [
       "[1, 1, 1, 1, 1, 1, 1, 1, 1, 1, 0, 1, 2, 3, 4, 5, 6, 7, 8, 9]"
      ]
     },
     "execution_count": 29,
     "metadata": {},
     "output_type": "execute_result"
    }
   ],
   "source": [
    "import numpy as np\n",
    "\n",
    "a = [1 for i in range(10)]\n",
    "b = [i for i in range(10)]\n",
    "c = a + b\n",
    "c"
   ]
  },
  {
   "cell_type": "markdown",
   "metadata": {},
   "source": [
    "### ndarrayの演算"
   ]
  },
  {
   "cell_type": "code",
   "execution_count": 26,
   "metadata": {},
   "outputs": [
    {
     "data": {
      "text/plain": [
       "array([ 1,  2,  3,  4,  5,  6,  7,  8,  9, 10])"
      ]
     },
     "execution_count": 26,
     "metadata": {},
     "output_type": "execute_result"
    }
   ],
   "source": [
    "import numpy as np\n",
    "\n",
    "a = np.array([1 for i in range(10)])\n",
    "b = np.array([i for i in range(10)])\n",
    "c = a + b\n",
    "c"
   ]
  },
  {
   "cell_type": "markdown",
   "metadata": {},
   "source": [
    "### []とndarrayの演算"
   ]
  },
  {
   "cell_type": "code",
   "execution_count": 7,
   "metadata": {},
   "outputs": [
    {
     "data": {
      "text/plain": [
       "array([ 1,  2,  3,  4,  5,  6,  7,  8,  9, 10])"
      ]
     },
     "execution_count": 7,
     "metadata": {},
     "output_type": "execute_result"
    }
   ],
   "source": [
    "import numpy as np\n",
    "\n",
    "a = [1 for i in range(10)]\n",
    "b = np.array([i for i in range(10)])\n",
    "c = a + b\n",
    "c"
   ]
  },
  {
   "cell_type": "markdown",
   "metadata": {},
   "source": [
    "### []の分割"
   ]
  },
  {
   "cell_type": "code",
   "execution_count": 25,
   "metadata": {},
   "outputs": [
    {
     "name": "stdout",
     "output_type": "stream",
     "text": [
      "[1, 1, 1, 1, 1, 1, 1, 1, 1, 1, 0, 1, 2, 3, 4]\n",
      "[5, 6, 7, 8, 9]\n"
     ]
    },
    {
     "data": {
      "text/plain": [
       "[1, 1, 1, 1, 1, 1, 1, 1, 1, 1, 0, 1, 2, 3, 4]"
      ]
     },
     "execution_count": 25,
     "metadata": {},
     "output_type": "execute_result"
    }
   ],
   "source": [
    "cp,cl = c[:15],c[15:20]\n",
    "print(cp)\n",
    "print(cl)\n",
    "cp"
   ]
  },
  {
   "cell_type": "markdown",
   "metadata": {},
   "source": [
    "### ndarryの分割"
   ]
  },
  {
   "cell_type": "code",
   "execution_count": 27,
   "metadata": {},
   "outputs": [
    {
     "name": "stdout",
     "output_type": "stream",
     "text": [
      "[1 2 3 4 5]\n",
      "[ 6  7  8  9 10]\n"
     ]
    },
    {
     "data": {
      "text/plain": [
       "array([1, 2, 3, 4, 5])"
      ]
     },
     "execution_count": 27,
     "metadata": {},
     "output_type": "execute_result"
    }
   ],
   "source": [
    "import numpy as np\n",
    "\n",
    "cp,cl = c[:5],c[5:10]\n",
    "print(cp)\n",
    "print(cl)\n",
    "cp"
   ]
  },
  {
   "cell_type": "markdown",
   "metadata": {},
   "source": [
    "### ndarryからリスト"
   ]
  },
  {
   "cell_type": "code",
   "execution_count": 34,
   "metadata": {},
   "outputs": [
    {
     "name": "stdout",
     "output_type": "stream",
     "text": [
      "[0 1 2 3 4 5 6 7 8 9]\n",
      "[0, 1, 2, 3, 4, 5, 6, 7, 8, 9]\n"
     ]
    }
   ],
   "source": [
    "import numpy as np\n",
    "\n",
    "a1 = np.arange(10)\n",
    "print(a1)\n",
    "\n",
    "a1_list = a1.tolist()\n",
    "print(a1_list)"
   ]
  },
  {
   "cell_type": "markdown",
   "metadata": {},
   "source": [
    "### np.random.randn()"
   ]
  },
  {
   "cell_type": "code",
   "execution_count": 43,
   "metadata": {},
   "outputs": [
    {
     "data": {
      "text/plain": [
       "0.9801141969171291"
      ]
     },
     "execution_count": 43,
     "metadata": {},
     "output_type": "execute_result"
    }
   ],
   "source": [
    "import numpy as np\n",
    "\n",
    "a = np.random.rand(1)[0]\n",
    "a"
   ]
  },
  {
   "cell_type": "code",
   "execution_count": 57,
   "metadata": {},
   "outputs": [
    {
     "name": "stdout",
     "output_type": "stream",
     "text": [
      "[[0], [1], [2], [3], [4], [5], [6], [7], [8], [9]]\n"
     ]
    }
   ],
   "source": [
    "b = [ [i] for i in range(10)]\n",
    "print(b)"
   ]
  },
  {
   "cell_type": "code",
   "execution_count": 58,
   "metadata": {},
   "outputs": [
    {
     "data": {
      "text/plain": [
       "array([[0.58048319, 0.67797897, 0.14728988, 0.63952012, 0.82254926,\n",
       "        0.46280213, 0.28673355, 0.12743203, 0.40638802, 0.50241411],\n",
       "       [1.58048319, 1.67797897, 1.14728988, 1.63952012, 1.82254926,\n",
       "        1.46280213, 1.28673355, 1.12743203, 1.40638802, 1.50241411],\n",
       "       [2.58048319, 2.67797897, 2.14728988, 2.63952012, 2.82254926,\n",
       "        2.46280213, 2.28673355, 2.12743203, 2.40638802, 2.50241411],\n",
       "       [3.58048319, 3.67797897, 3.14728988, 3.63952012, 3.82254926,\n",
       "        3.46280213, 3.28673355, 3.12743203, 3.40638802, 3.50241411],\n",
       "       [4.58048319, 4.67797897, 4.14728988, 4.63952012, 4.82254926,\n",
       "        4.46280213, 4.28673355, 4.12743203, 4.40638802, 4.50241411],\n",
       "       [5.58048319, 5.67797897, 5.14728988, 5.63952012, 5.82254926,\n",
       "        5.46280213, 5.28673355, 5.12743203, 5.40638802, 5.50241411],\n",
       "       [6.58048319, 6.67797897, 6.14728988, 6.63952012, 6.82254926,\n",
       "        6.46280213, 6.28673355, 6.12743203, 6.40638802, 6.50241411],\n",
       "       [7.58048319, 7.67797897, 7.14728988, 7.63952012, 7.82254926,\n",
       "        7.46280213, 7.28673355, 7.12743203, 7.40638802, 7.50241411],\n",
       "       [8.58048319, 8.67797897, 8.14728988, 8.63952012, 8.82254926,\n",
       "        8.46280213, 8.28673355, 8.12743203, 8.40638802, 8.50241411],\n",
       "       [9.58048319, 9.67797897, 9.14728988, 9.63952012, 9.82254926,\n",
       "        9.46280213, 9.28673355, 9.12743203, 9.40638802, 9.50241411]])"
      ]
     },
     "execution_count": 58,
     "metadata": {},
     "output_type": "execute_result"
    }
   ],
   "source": [
    "a = np.random.rand(10)\n",
    "a + b"
   ]
  },
  {
   "cell_type": "code",
   "execution_count": 68,
   "metadata": {},
   "outputs": [
    {
     "name": "stdout",
     "output_type": "stream",
     "text": [
      "[[0], [1], [2], [3], [4], [5], [6], [7], [8], [9]]\n",
      "[0.9164235977441274, 0.9570093324073008, 0.40969088279178256, 0.16023747438482872, 0.10797131559675888, 0.11525716178411116, 0.4797814886058144, 0.5452650147137486, 0.06867179176720817, 0.32976346641583076]\n",
      "[[0.9164235977441274], [1.9570093324073008], [2.4096908827917827], [3.1602374743848287], [4.1079713155967585], [5.115257161784111], [6.4797814886058145], [7.545265014713749], [8.068671791767208], [9.32976346641583]]\n"
     ]
    }
   ],
   "source": [
    "b = [ [i] for i in range(10)]\n",
    "print(b)\n",
    "\n",
    "a = np.random.rand(10).tolist()\n",
    "print(a)\n",
    "\n",
    "for i in range(len(b)):\n",
    "    b[i][0] = b[i][0] + a[i]\n",
    "print(b)"
   ]
  },
  {
   "cell_type": "markdown",
   "metadata": {},
   "source": [
    "### 多変量ガウス"
   ]
  },
  {
   "cell_type": "code",
   "execution_count": 141,
   "metadata": {},
   "outputs": [
    {
     "name": "stdout",
     "output_type": "stream",
     "text": [
      "X_1\n",
      "[[-0.82294467]\n",
      " [-0.68311546]]\n",
      "\n",
      "[[0.47200787 0.44140691]\n",
      " [0.14781448 0.85933781]]\n",
      "p_2\n",
      "[0.52812115 0.00267174]\n",
      "\n",
      "[[-0.82294467]\n",
      " [-0.68311546]]\n"
     ]
    },
    {
     "name": "stderr",
     "output_type": "stream",
     "text": [
      "/mnt/nfs/takagi/.pyenv/versions/3.5.2/lib/python3.5/site-packages/ipykernel_launcher.py:12: RuntimeWarning: covariance is not positive-semidefinite.\n",
      "  if sys.path[0] == '':\n"
     ]
    },
    {
     "data": {
      "text/plain": [
       "matrix([[-0.82294467],\n",
       "        [-0.68311546]])"
      ]
     },
     "execution_count": 141,
     "metadata": {},
     "output_type": "execute_result"
    }
   ],
   "source": [
    "import numpy as np\n",
    "from scipy.stats import multivariate_normal\n",
    "\n",
    "x = np.mat([[0.0],\n",
    "            [0.0]])\n",
    "A = np.mat(np.random.rand(2,2))\n",
    "Q = np.mat(np.random.rand(2,2))\n",
    "\n",
    "X = [] # 状態\n",
    "K = 500 # サンプル数\n",
    "for i in range(K):\n",
    "    x = A * x + np.mat(np.random.multivariate_normal((0,0),Q)).T\n",
    "    X.append(x)\n",
    "\n",
    "print(\"X_1\\n%s\\n\" %X[0])\n",
    "\n",
    "#mu=np.array([0, 0])\n",
    "mu = X[0]\n",
    "#covari = np.array([[ 1. , -0.5], [-0.5,  1.5]])\n",
    "covari = np.mat([[ 1. , -0.5], [-0.5,  1.5]])\n",
    "covari = Q\n",
    "print(Q)\n",
    "#y = multivariate_normal.pdf(X[1], mean=mu, cov=covari)\n",
    "\n",
    "print(\"p_2\\n%s\\n\" %y)\n",
    "print(mu)\n",
    "mu"
   ]
  },
  {
   "cell_type": "code",
   "execution_count": 229,
   "metadata": {},
   "outputs": [
    {
     "name": "stdout",
     "output_type": "stream",
     "text": [
      "A*X[0]\n",
      "[[1.68452795]\n",
      " [0.43180416]]\n",
      "\n",
      "covariance\n",
      "[[2.  0.1]\n",
      " [0.1 2. ]]\n",
      "\n",
      "固有値 (array([2.1, 1.9]), matrix([[ 0.70710678, -0.70710678],\n",
      "        [ 0.70710678,  0.70710678]]))\n",
      "[0.52812115 0.00267174]\n",
      "\n",
      "a 12.550652821323126\n",
      "\n",
      "a1 3.99\n",
      "\n",
      "b 3.389019535982273\n",
      "\n",
      "多変量ガウス 2.361381559028449\n",
      "-----------------------------\n",
      "0.8592468541220417\n",
      "0.8592468541220417\n"
     ]
    }
   ],
   "source": [
    "import numpy as np\n",
    "\n",
    "#初期化\n",
    "dt = 0.1\n",
    "\n",
    "x = np.mat([[0.0],\n",
    "            [0.0]])\n",
    "A = np.mat([[1.0,dt],\n",
    "            [0.0,1.0]])\n",
    "\n",
    "Q = np.mat([[2,0.1],\n",
    "            [0.1,2]])\n",
    "\n",
    "X = [] # 状態\n",
    "K = 500 # サンプル数\n",
    "for i in range(K):\n",
    "    x = A * x + np.mat(np.random.multivariate_normal((0,0),Q)).T\n",
    "    X.append(x)\n",
    "\n",
    "#多変量ガウス確率密度関数\n",
    "\n",
    "mu = A*X[0]\n",
    "cova = Q\n",
    "\n",
    "print(\"A*X[0]\\n%s\\n\" %mu)\n",
    "print(\"covariance\\n%s\\n\" %Q)\n",
    "print(\"固有値\", np.linalg.eig(Q))\n",
    "\n",
    "#y = multivariate_normal.pdf(X[1], mean=mu, cov=cova)\n",
    "print(y)\n",
    "a = np.sqrt(np.linalg.det(Q)*(2*np.pi)**Q.ndim)\n",
    "\n",
    "b = np.linalg.det((X[1]-mu).T * np.linalg.pinv(Q) * (X[1]-mu))\n",
    "c = np.exp(b)/a\n",
    "\n",
    "ln_c = b - np.log(a)\n",
    "ln_c2 = b - (1/2)*(np.log(np.linalg.det(Q)) + Q.ndim*np.log(2*np.pi))\n",
    "\n",
    "print()\n",
    "print(\"a\",a)\n",
    "print()\n",
    "print(\"a1\", a1)\n",
    "print()\n",
    "print(\"b\", b)\n",
    "print()\n",
    "print(\"多変量ガウス\", c)\n",
    "print(\"-----------------------------\")\n",
    "print(ln_c)\n",
    "print(ln_c2)"
   ]
  },
  {
   "cell_type": "code",
   "execution_count": 230,
   "metadata": {},
   "outputs": [
    {
     "name": "stdout",
     "output_type": "stream",
     "text": [
      "A*X[0]\n",
      "[[ 1.3641034 ]\n",
      " [-1.31447066]]\n",
      "\n",
      "covariance\n",
      "[[2.  0.1]\n",
      " [0.1 2. ]]\n",
      "\n",
      "固有値 (array([2.1, 1.9]), matrix([[ 0.70710678, -0.70710678],\n",
      "        [ 0.70710678,  0.70710678]]))\n",
      "\n",
      "多変量ガウス 0.11249110642672716\n",
      "-----------------------------\n",
      "-2.1848811144472404\n"
     ]
    }
   ],
   "source": [
    "import numpy as np\n",
    "\n",
    "#初期化\n",
    "dt = 0.1\n",
    "\n",
    "x = np.mat([[0.0],\n",
    "            [0.0]])\n",
    "A = np.mat([[1.0,dt],\n",
    "            [0.0,1.0]])\n",
    "\n",
    "Q = np.mat([[2,0.1],\n",
    "            [0.1,2]])\n",
    "\n",
    "X = [] # 状態\n",
    "K = 500 # サンプル数\n",
    "for i in range(K):\n",
    "    x = A * x + np.mat(np.random.multivariate_normal((0,0),Q)).T\n",
    "    X.append(x)\n",
    "\n",
    "#多変量ガウス確率密度関数\n",
    "\n",
    "mu = A*X[0]\n",
    "cova = Q\n",
    "\n",
    "print(\"A*X[0]\\n%s\\n\" %mu)\n",
    "print(\"covariance\\n%s\\n\" %Q)\n",
    "print(\"固有値\", np.linalg.eig(Q))\n",
    "\n",
    "a = np.sqrt(np.linalg.det(Q)*(2*np.pi)**Q.ndim)\n",
    "b = np.linalg.det((X[1]-mu).T * np.linalg.pinv(Q) * (X[1]-mu))\n",
    "c = np.exp(b)/a\n",
    "\n",
    "#対数化\n",
    "ln_c = b - (1/2)*(np.log(np.linalg.det(Q)) + Q.ndim*np.log(2*np.pi))\n",
    "\n",
    "print()\n",
    "print(\"多変量ガウス\", c)\n",
    "print(\"-----------------------------\")\n",
    "print(ln_c)"
   ]
  },
  {
   "cell_type": "markdown",
   "metadata": {},
   "source": [
    "### numpy　逆行列と擬似逆行列"
   ]
  },
  {
   "cell_type": "code",
   "execution_count": 191,
   "metadata": {},
   "outputs": [
    {
     "name": "stdout",
     "output_type": "stream",
     "text": [
      "擬似逆行列\n",
      "[[ 1.00000000e+00 -3.50000000e-01]\n",
      " [-5.55111512e-17  1.00000000e+00]]\n",
      "\n",
      "逆行列\n",
      "[[ 1.   -0.35]\n",
      " [ 0.    1.  ]]\n",
      "\n",
      "\n",
      "[[ 1.   -0.35]\n",
      " [ 0.    1.  ]]\n",
      "\n"
     ]
    }
   ],
   "source": [
    "import numpy as np\n",
    "\n",
    "dt = 0.35\n",
    "\n",
    "m = np.mat([[1.0,dt],\n",
    "            [0.0,1.0]])\n",
    "\n",
    "print(\"擬似逆行列\\n%s\\n\" %np.linalg.pinv(m))\n",
    "print(\"逆行列\\n%s\\n\" %np.linalg.inv(m))\n",
    "print(\"\\n%s\\n\" %m.I)"
   ]
  },
  {
   "cell_type": "code",
   "execution_count": 253,
   "metadata": {},
   "outputs": [
    {
     "name": "stdout",
     "output_type": "stream",
     "text": [
      "0.09612705624151296\n",
      "[[0.09612706 0.12675116]\n",
      " [0.54418896 0.21448545]]\n"
     ]
    }
   ],
   "source": [
    "import numpy as np\n",
    "\n",
    "a = np.random.rand(2,2)\n",
    "print(a[0,0])\n",
    "print(a)"
   ]
  },
  {
   "cell_type": "markdown",
   "metadata": {},
   "source": [
    "### numpy 単位行列"
   ]
  },
  {
   "cell_type": "code",
   "execution_count": 4,
   "metadata": {},
   "outputs": [
    {
     "data": {
      "text/plain": [
       "matrix([[1., 0.],\n",
       "        [0., 1.]])"
      ]
     },
     "execution_count": 4,
     "metadata": {},
     "output_type": "execute_result"
    }
   ],
   "source": [
    "import numpy as np\n",
    "\n",
    "a = np.mat(np.eye(2))\n",
    "b = np.eye(2)\n",
    "a"
   ]
  },
  {
   "cell_type": "markdown",
   "metadata": {},
   "source": [
    "### numpy matrix 要素積"
   ]
  },
  {
   "cell_type": "code",
   "execution_count": 10,
   "metadata": {},
   "outputs": [
    {
     "name": "stdout",
     "output_type": "stream",
     "text": [
      "乱数行列\n",
      "[[0.7177083  0.39407245]\n",
      " [0.76231671 0.5926956 ]]\n",
      "\n",
      "単位行列\n",
      "[[1. 0.]\n",
      " [0. 1.]]\n",
      "\n"
     ]
    },
    {
     "data": {
      "text/plain": [
       "matrix([[0.7177083, 0.       ],\n",
       "        [0.       , 0.5926956]])"
      ]
     },
     "execution_count": 10,
     "metadata": {},
     "output_type": "execute_result"
    }
   ],
   "source": [
    "import numpy as np\n",
    "\n",
    "A = np.mat(np.random.rand(2,2))\n",
    "a = np.mat(np.eye(2))\n",
    "print(\"乱数行列\\n%s\\n\"%A)\n",
    "print(\"単位行列\\n%s\\n\"%a)\n",
    "\n",
    "mat_mul = np.multiply(A, a)\n",
    "mat_mul"
   ]
  },
  {
   "cell_type": "markdown",
   "metadata": {},
   "source": [
    "#### 改行"
   ]
  },
  {
   "cell_type": "code",
   "execution_count": 13,
   "metadata": {},
   "outputs": [
    {
     "name": "stdout",
     "output_type": "stream",
     "text": [
      "5 \n",
      "\n",
      "10\n",
      "10\n"
     ]
    }
   ],
   "source": [
    "i = 10\n",
    "a = 5\n",
    "\n",
    "print(a,\"\\n\")\n",
    "print(i)\n",
    "print(i)"
   ]
  },
  {
   "cell_type": "markdown",
   "metadata": {},
   "source": [
    "### GPU計算 cupy"
   ]
  },
  {
   "cell_type": "code",
   "execution_count": 31,
   "metadata": {},
   "outputs": [
    {
     "name": "stdout",
     "output_type": "stream",
     "text": [
      "A = \n",
      " [[0. 1. 2.]\n",
      " [3. 4. 5.]\n",
      " [6. 7. 8.]]\n",
      "B = \n",
      " [[0. 1. 2.]\n",
      " [3. 4. 5.]\n",
      " [6. 7. 8.]]\n",
      "和：A + B = \n",
      " [[ 0.  2.  4.]\n",
      " [ 6.  8. 10.]\n",
      " [12. 14. 16.]]\n",
      "内積：A・B = \n",
      " [[ 15.  18.  21.]\n",
      " [ 42.  54.  66.]\n",
      " [ 69.  90. 111.]]\n"
     ]
    }
   ],
   "source": [
    "import cupy as cp\n",
    "A = cp.arange(9).reshape(3, 3).astype('f') #cupy上で3*3の行列を生成\n",
    "B = cp.arange(9).reshape(3, 3).astype('f') #cupy上で3*3の行列を生成\n",
    "print('A = \\n', A)\n",
    "print('B = \\n', B)\n",
    "\n",
    "C = A + B #行列の和\n",
    "print('和：A + B = \\n', C)\n",
    "\n",
    "D = cp.dot(A, B) #行列の内積\n",
    "print('内積：A・B = \\n', D)"
   ]
  },
  {
   "cell_type": "code",
   "execution_count": 36,
   "metadata": {},
   "outputs": [
    {
     "name": "stdout",
     "output_type": "stream",
     "text": [
      "0.07984733581542969\n",
      "0.0009319782257080078\n"
     ]
    }
   ],
   "source": [
    "import cupy as cp\n",
    "import numpy as np\n",
    "import time\n",
    "\n",
    "#CPU計算\n",
    "def numpy_sigmoid(x):\n",
    "    return 1/(1+np.exp(-x))\n",
    "\n",
    "start = time.time()\n",
    "x = np.arange(3000000)\n",
    "numpy_sigmoid(x)\n",
    "print(time.time()-start)\n",
    "\n",
    "#GPU計算\n",
    "def cupy_sigmoid(x):\n",
    "    return 1/(1+cp.exp(-x))\n",
    "\n",
    "start = time.time()\n",
    "x = cp.arange(3000000)\n",
    "cupy_sigmoid(x)\n",
    "print(time.time()-start)"
   ]
  },
  {
   "cell_type": "markdown",
   "metadata": {},
   "source": [
    "### cupyからnumpyの変換"
   ]
  },
  {
   "cell_type": "code",
   "execution_count": 48,
   "metadata": {},
   "outputs": [
    {
     "name": "stdout",
     "output_type": "stream",
     "text": [
      "「E」のクラスは <class 'cupy.core.core.ndarray'>\n",
      "cupy配列\n",
      "[[0. 1. 2.]\n",
      " [3. 4. 5.]\n",
      " [6. 7. 8.]]\n",
      "\n",
      "\n",
      "「E_np」のクラスは <class 'numpy.ndarray'>\n",
      "numpy配列に変換\n",
      "[[0. 1. 2.]\n",
      " [3. 4. 5.]\n",
      " [6. 7. 8.]]\n",
      "\n",
      "「E_cp」のクラスは <class 'cupy.core.core.ndarray'>\n",
      "cupy配列に変換\n",
      "[[0. 1. 2.]\n",
      " [3. 4. 5.]\n",
      " [6. 7. 8.]]\n",
      "\n"
     ]
    }
   ],
   "source": [
    "import cupy as cp\n",
    "import numpy as np\n",
    "\n",
    "E = cp.arange(9).reshape(3, 3).astype('f') #cupyで生成するとcupy配列\n",
    "print('「E」のクラスは', type(E)) \n",
    "print('cupy配列\\n%s\\n' %E)\n",
    "print()\n",
    "\n",
    "E_np = cp.asnumpy(E) #cupy ⇒ numpy配列へ変換\n",
    "print('「E_np」のクラスは', type(E_np))\n",
    "print('numpy配列に変換\\n%s\\n' %E_np)\n",
    "\n",
    "E_cp = cp.asarray(E_np) #numpy ⇒ cupy配列へ変換\n",
    "print('「E_cp」のクラスは', type(E_cp))\n",
    "print('cupy配列に変換\\n%s\\n' %E_cp)"
   ]
  },
  {
   "cell_type": "markdown",
   "metadata": {},
   "source": [
    "### numpy arange"
   ]
  },
  {
   "cell_type": "code",
   "execution_count": 52,
   "metadata": {},
   "outputs": [
    {
     "data": {
      "text/plain": [
       "array([[0., 1., 2.],\n",
       "       [3., 4., 5.],\n",
       "       [6., 7., 8.]], dtype=float32)"
      ]
     },
     "execution_count": 52,
     "metadata": {},
     "output_type": "execute_result"
    }
   ],
   "source": [
    "import numpy as np\n",
    "\n",
    "x = np.arange(9).reshape(3, 3).astype('f')\n",
    "x"
   ]
  },
  {
   "cell_type": "markdown",
   "metadata": {},
   "source": [
    "### numpy ndarry 初期化"
   ]
  },
  {
   "cell_type": "code",
   "execution_count": 8,
   "metadata": {},
   "outputs": [
    {
     "data": {
      "text/plain": [
       "matrix([[0., 0., 0.],\n",
       "        [0., 0., 0.],\n",
       "        [0., 0., 0.]])"
      ]
     },
     "execution_count": 8,
     "metadata": {},
     "output_type": "execute_result"
    }
   ],
   "source": [
    "import numpy as np\n",
    "\n",
    "a = np.zeros([3, 3])\n",
    "b = np.mat(a)\n",
    "b"
   ]
  },
  {
   "cell_type": "code",
   "execution_count": 19,
   "metadata": {},
   "outputs": [
    {
     "data": {
      "text/plain": [
       "matrix([[2., 0., 0.],\n",
       "        [0., 1., 0.],\n",
       "        [0., 0., 1.]])"
      ]
     },
     "execution_count": 19,
     "metadata": {},
     "output_type": "execute_result"
    }
   ],
   "source": [
    "import numpy as np\n",
    "\n",
    "c = np.mat(np.eye(3, 3))\n",
    "c[0, 0] = 2*c[0, 0]\n",
    "c"
   ]
  },
  {
   "cell_type": "code",
   "execution_count": 22,
   "metadata": {},
   "outputs": [
    {
     "data": {
      "text/plain": [
       "matrix([[1., 0.]])"
      ]
     },
     "execution_count": 22,
     "metadata": {},
     "output_type": "execute_result"
    }
   ],
   "source": [
    "import numpy as np\n",
    "\n",
    "dim = 2\n",
    "x =np.mat(np.zeros([dim, dim-1]))\n",
    "\n",
    "A = np.mat(np.eye(dim-1, dim))\n",
    "A"
   ]
  },
  {
   "cell_type": "code",
   "execution_count": 27,
   "metadata": {},
   "outputs": [
    {
     "data": {
      "text/plain": [
       "array([[1., 1., 1., 1., 1.]])"
      ]
     },
     "execution_count": 27,
     "metadata": {},
     "output_type": "execute_result"
    }
   ],
   "source": [
    "import numpy as np\n",
    "\n",
    "x = np.ones((1, 5))\n",
    "x"
   ]
  },
  {
   "cell_type": "code",
   "execution_count": 32,
   "metadata": {},
   "outputs": [
    {
     "ename": "LinAlgError",
     "evalue": "Last 2 dimensions of the array must be square",
     "output_type": "error",
     "traceback": [
      "\u001b[0;31m---------------------------------------------------------------------------\u001b[0m",
      "\u001b[0;31mLinAlgError\u001b[0m                               Traceback (most recent call last)",
      "\u001b[0;32m<ipython-input-32-f1b127ff411a>\u001b[0m in \u001b[0;36m<module>\u001b[0;34m()\u001b[0m\n\u001b[1;32m      2\u001b[0m \u001b[0;34m\u001b[0m\u001b[0m\n\u001b[1;32m      3\u001b[0m \u001b[0ma\u001b[0m \u001b[0;34m=\u001b[0m \u001b[0mnp\u001b[0m\u001b[0;34m.\u001b[0m\u001b[0marray\u001b[0m\u001b[0;34m(\u001b[0m\u001b[0;34m[\u001b[0m\u001b[0;34m[\u001b[0m\u001b[0;36m15\u001b[0m\u001b[0;34m,\u001b[0m \u001b[0;36m10\u001b[0m\u001b[0;34m]\u001b[0m\u001b[0;34m,\u001b[0m\u001b[0;34m[\u001b[0m\u001b[0;36m10\u001b[0m\u001b[0;34m,\u001b[0m \u001b[0;36m10\u001b[0m\u001b[0;34m]\u001b[0m\u001b[0;34m,\u001b[0m\u001b[0;34m[\u001b[0m\u001b[0;36m10\u001b[0m\u001b[0;34m,\u001b[0m \u001b[0;36m10\u001b[0m\u001b[0;34m]\u001b[0m\u001b[0;34m]\u001b[0m\u001b[0;34m)\u001b[0m\u001b[0;34m\u001b[0m\u001b[0m\n\u001b[0;32m----> 4\u001b[0;31m \u001b[0me\u001b[0m \u001b[0;34m=\u001b[0m \u001b[0mnp\u001b[0m\u001b[0;34m.\u001b[0m\u001b[0mlinalg\u001b[0m\u001b[0;34m.\u001b[0m\u001b[0meig\u001b[0m\u001b[0;34m(\u001b[0m\u001b[0ma\u001b[0m\u001b[0;34m)\u001b[0m\u001b[0;34m\u001b[0m\u001b[0m\n\u001b[0m\u001b[1;32m      5\u001b[0m \u001b[0me\u001b[0m\u001b[0;34m\u001b[0m\u001b[0m\n",
      "\u001b[0;32m~/.pyenv/versions/3.5.2/lib/python3.5/site-packages/numpy/linalg/linalg.py\u001b[0m in \u001b[0;36meig\u001b[0;34m(a)\u001b[0m\n\u001b[1;32m   1140\u001b[0m     \u001b[0ma\u001b[0m\u001b[0;34m,\u001b[0m \u001b[0mwrap\u001b[0m \u001b[0;34m=\u001b[0m \u001b[0m_makearray\u001b[0m\u001b[0;34m(\u001b[0m\u001b[0ma\u001b[0m\u001b[0;34m)\u001b[0m\u001b[0;34m\u001b[0m\u001b[0m\n\u001b[1;32m   1141\u001b[0m     \u001b[0m_assertRankAtLeast2\u001b[0m\u001b[0;34m(\u001b[0m\u001b[0ma\u001b[0m\u001b[0;34m)\u001b[0m\u001b[0;34m\u001b[0m\u001b[0m\n\u001b[0;32m-> 1142\u001b[0;31m     \u001b[0m_assertNdSquareness\u001b[0m\u001b[0;34m(\u001b[0m\u001b[0ma\u001b[0m\u001b[0;34m)\u001b[0m\u001b[0;34m\u001b[0m\u001b[0m\n\u001b[0m\u001b[1;32m   1143\u001b[0m     \u001b[0m_assertFinite\u001b[0m\u001b[0;34m(\u001b[0m\u001b[0ma\u001b[0m\u001b[0;34m)\u001b[0m\u001b[0;34m\u001b[0m\u001b[0m\n\u001b[1;32m   1144\u001b[0m     \u001b[0mt\u001b[0m\u001b[0;34m,\u001b[0m \u001b[0mresult_t\u001b[0m \u001b[0;34m=\u001b[0m \u001b[0m_commonType\u001b[0m\u001b[0;34m(\u001b[0m\u001b[0ma\u001b[0m\u001b[0;34m)\u001b[0m\u001b[0;34m\u001b[0m\u001b[0m\n",
      "\u001b[0;32m~/.pyenv/versions/3.5.2/lib/python3.5/site-packages/numpy/linalg/linalg.py\u001b[0m in \u001b[0;36m_assertNdSquareness\u001b[0;34m(*arrays)\u001b[0m\n\u001b[1;32m    209\u001b[0m     \u001b[0;32mfor\u001b[0m \u001b[0ma\u001b[0m \u001b[0;32min\u001b[0m \u001b[0marrays\u001b[0m\u001b[0;34m:\u001b[0m\u001b[0;34m\u001b[0m\u001b[0m\n\u001b[1;32m    210\u001b[0m         \u001b[0;32mif\u001b[0m \u001b[0mmax\u001b[0m\u001b[0;34m(\u001b[0m\u001b[0ma\u001b[0m\u001b[0;34m.\u001b[0m\u001b[0mshape\u001b[0m\u001b[0;34m[\u001b[0m\u001b[0;34m-\u001b[0m\u001b[0;36m2\u001b[0m\u001b[0;34m:\u001b[0m\u001b[0;34m]\u001b[0m\u001b[0;34m)\u001b[0m \u001b[0;34m!=\u001b[0m \u001b[0mmin\u001b[0m\u001b[0;34m(\u001b[0m\u001b[0ma\u001b[0m\u001b[0;34m.\u001b[0m\u001b[0mshape\u001b[0m\u001b[0;34m[\u001b[0m\u001b[0;34m-\u001b[0m\u001b[0;36m2\u001b[0m\u001b[0;34m:\u001b[0m\u001b[0;34m]\u001b[0m\u001b[0;34m)\u001b[0m\u001b[0;34m:\u001b[0m\u001b[0;34m\u001b[0m\u001b[0m\n\u001b[0;32m--> 211\u001b[0;31m             \u001b[0;32mraise\u001b[0m \u001b[0mLinAlgError\u001b[0m\u001b[0;34m(\u001b[0m\u001b[0;34m'Last 2 dimensions of the array must be square'\u001b[0m\u001b[0;34m)\u001b[0m\u001b[0;34m\u001b[0m\u001b[0m\n\u001b[0m\u001b[1;32m    212\u001b[0m \u001b[0;34m\u001b[0m\u001b[0m\n\u001b[1;32m    213\u001b[0m \u001b[0;32mdef\u001b[0m \u001b[0m_assertFinite\u001b[0m\u001b[0;34m(\u001b[0m\u001b[0;34m*\u001b[0m\u001b[0marrays\u001b[0m\u001b[0;34m)\u001b[0m\u001b[0;34m:\u001b[0m\u001b[0;34m\u001b[0m\u001b[0m\n",
      "\u001b[0;31mLinAlgError\u001b[0m: Last 2 dimensions of the array must be square"
     ]
    }
   ],
   "source": [
    "import numpy as np\n",
    "\n",
    "a = np.array([[15, 10],[10, 10]])\n",
    "e = np.linalg.eig(a)\n",
    "e"
   ]
  },
  {
   "cell_type": "markdown",
   "metadata": {},
   "source": [
    "### cupyとnumpy比較　データ生成と行列演算"
   ]
  },
  {
   "cell_type": "markdown",
   "metadata": {},
   "source": [
    "#### データ生成に関しても，行列演算に関しても，cupyは10000×10000で1000倍位早くなるが，100×100程度だとCPUの方が早い"
   ]
  },
  {
   "cell_type": "code",
   "execution_count": 6,
   "metadata": {},
   "outputs": [
    {
     "name": "stdout",
     "output_type": "stream",
     "text": [
      "GPUデータ生成時間\n",
      "0.0006530284881591797\n",
      "\n",
      "CPUデータ生成時間\n",
      "0.0004639625549316406\n",
      "\n",
      "===============================================================\n",
      "\n",
      "積算\n",
      "\n",
      "GPU行列の積算時間\n",
      "0.0005435943603515625\n",
      "\n",
      "CPU行列の積算時間\n",
      "0.0010685920715332031\n",
      "\n",
      "減算\n",
      "\n",
      "GPU行列の減算時間\n",
      "0.00019407272338867188\n",
      "\n",
      "CPU行列の減算時間\n",
      "0.0010247230529785156\n",
      "\n",
      "加算\n",
      "\n",
      "GPU行列の加算時間\n",
      "0.00020003318786621094\n",
      "\n",
      "CPU行列の加算時間\n",
      "0.0011296272277832031\n",
      "\n",
      "要素積\n",
      "\n",
      "GPU行列の要素積時間\n",
      "0.00018787384033203125\n",
      "\n",
      "CPU行列の要素積時間\n",
      "0.000997304916381836\n",
      "\n"
     ]
    }
   ],
   "source": [
    "import cupy as cp\n",
    "import numpy as np\n",
    "import time\n",
    "\n",
    "#データ生成\n",
    "\n",
    "start = time.time()\n",
    "\"\"\"gpu_a = cp.arange(100000000).reshape(10000, 10000).astype('f') \n",
    "gpu_b = cp.arange(100000000).reshape(10000, 10000).astype('f')\"\"\"\n",
    "gpu_a = cp.arange(10000).reshape(100, 100).astype('f') \n",
    "gpu_b = cp.arange(10000).reshape(100, 100).astype('f')\n",
    "GPU_time = time.time()-start\n",
    "print(\"GPUデータ生成時間\\n%s\\n\" %GPU_time)\n",
    "\n",
    "start = time.time()\n",
    "\"\"\"cpu_a = np.arange(100000000).reshape(10000, 10000).astype('f') \n",
    "cpu_b = np.arange(100000000).reshape(10000, 10000).astype('f')\"\"\"\n",
    "cpu_a = np.arange(10000).reshape(100, 100).astype('f') \n",
    "cpu_b = np.arange(10000).reshape(100, 100).astype('f')\n",
    "CPU_time = time.time()-start\n",
    "print(\"CPUデータ生成時間\\n%s\\n\" %CPU_time)\n",
    "\n",
    "print(\"===============================================================\\n\")\n",
    "#行列の積算\n",
    "print(\"積算\\n\")\n",
    "start = time.time()\n",
    "gpu_mat = cp.matmul(gpu_a, gpu_b)\n",
    "GPU_mat_time = time.time()-start\n",
    "print(\"GPU行列の積算時間\\n%s\\n\" %GPU_mat_time)\n",
    "\n",
    "start = time.time()\n",
    "cpu_mat = np.matmul(cpu_a, cpu_b)\n",
    "CPU_mat_time = time.time()-start\n",
    "print(\"CPU行列の積算時間\\n%s\\n\" %CPU_mat_time)\n",
    "\n",
    "#行列の減算\n",
    "print(\"減算\\n\")\n",
    "start = time.time()\n",
    "gpu_redu = gpu_a - gpu_b\n",
    "GPU_redu_time = time.time()-start\n",
    "print(\"GPU行列の減算時間\\n%s\\n\" %GPU_redu_time)\n",
    "\n",
    "start = time.time()\n",
    "cpu_redu = cpu_a - cpu_b\n",
    "CPU_redu_time = time.time()-start\n",
    "print(\"CPU行列の減算時間\\n%s\\n\" %CPU_redu_time)\n",
    "\n",
    "#行列の加算\n",
    "print(\"加算\\n\")\n",
    "start = time.time()\n",
    "gpu_add = gpu_a + gpu_b\n",
    "GPU_add_time = time.time()-start\n",
    "print(\"GPU行列の加算時間\\n%s\\n\" %GPU_add_time)\n",
    "\n",
    "start = time.time()\n",
    "cpu_add = cpu_a + cpu_b\n",
    "CPU_add_time = time.time()-start\n",
    "print(\"CPU行列の加算時間\\n%s\\n\" %CPU_add_time)\n",
    "\n",
    "#行列の要素積\n",
    "print(\"要素積\\n\")\n",
    "start = time.time()\n",
    "gpu_dot = gpu_a * gpu_b\n",
    "GPU_dot_time = time.time()-start\n",
    "print(\"GPU行列の要素積時間\\n%s\\n\" %GPU_dot_time)\n",
    "\n",
    "start = time.time()\n",
    "cpu_dot = cpu_a * cpu_b\n",
    "CPU_dot_time = time.time()-start\n",
    "print(\"CPU行列の要素積時間\\n%s\\n\" %CPU_dot_time)"
   ]
  },
  {
   "cell_type": "markdown",
   "metadata": {},
   "source": [
    "### cupyからnumpyの変換　乱数Vr"
   ]
  },
  {
   "cell_type": "code",
   "execution_count": 7,
   "metadata": {},
   "outputs": [
    {
     "name": "stdout",
     "output_type": "stream",
     "text": [
      "「A_cp」のクラスは <class 'cupy.core.core.ndarray'>\n",
      "cupy配列に変換\n",
      "[[0.72141087 0.97966824]\n",
      " [0.83717526 0.67251554]]\n",
      "\n",
      "「A_np」のクラスは <class 'numpy.ndarray'>\n",
      "numpy配列に変換\n",
      "[[0.72141087 0.97966824]\n",
      " [0.83717526 0.67251554]]\n",
      "\n"
     ]
    }
   ],
   "source": [
    "import cupy as cp\n",
    "import numpy as np\n",
    "\n",
    "A = np.mat(np.random.rand(2,2))\n",
    "\n",
    "A_cp = cp.asarray(A) #numpy ⇒ cupy配列へ変換\n",
    "print('「A_cp」のクラスは', type(A_cp))\n",
    "print('cupy配列に変換\\n%s\\n' %A_cp)\n",
    "\n",
    "A_np = cp.asnumpy(A_cp) #cupy ⇒ numpy配列へ変換\n",
    "print('「A_np」のクラスは', type(A_np))\n",
    "print('numpy配列に変換\\n%s\\n' %A_np)\n"
   ]
  },
  {
   "cell_type": "markdown",
   "metadata": {},
   "source": [
    "### cupy配列"
   ]
  },
  {
   "cell_type": "code",
   "execution_count": 2,
   "metadata": {},
   "outputs": [
    {
     "data": {
      "text/plain": [
       "array([[10, 11],\n",
       "       [12, 13]])"
      ]
     },
     "execution_count": 2,
     "metadata": {},
     "output_type": "execute_result"
    }
   ],
   "source": [
    "import cupy as cp\n",
    "\n",
    "g = cp.array([[10, 11],[12, 13]])\n",
    "g"
   ]
  },
  {
   "cell_type": "markdown",
   "metadata": {},
   "source": [
    "### cupy逆行列 擬似逆行列"
   ]
  },
  {
   "cell_type": "code",
   "execution_count": 10,
   "metadata": {},
   "outputs": [
    {
     "name": "stdout",
     "output_type": "stream",
     "text": [
      "4.3.0\n"
     ]
    },
    {
     "ename": "RuntimeError",
     "evalue": "Current cupy only supports cusolver in CUDA 8.0",
     "output_type": "error",
     "traceback": [
      "\u001b[0;31m---------------------------------------------------------------------------\u001b[0m",
      "\u001b[0;31mRuntimeError\u001b[0m                              Traceback (most recent call last)",
      "\u001b[0;32m<ipython-input-10-7a7d49db8883>\u001b[0m in \u001b[0;36m<module>\u001b[0;34m()\u001b[0m\n\u001b[1;32m      3\u001b[0m \u001b[0mprint\u001b[0m\u001b[0;34m(\u001b[0m\u001b[0mcp\u001b[0m\u001b[0;34m.\u001b[0m\u001b[0m__version__\u001b[0m\u001b[0;34m)\u001b[0m\u001b[0;34m\u001b[0m\u001b[0m\n\u001b[1;32m      4\u001b[0m \u001b[0mg\u001b[0m \u001b[0;34m=\u001b[0m \u001b[0mcp\u001b[0m\u001b[0;34m.\u001b[0m\u001b[0marray\u001b[0m\u001b[0;34m(\u001b[0m\u001b[0;34m[\u001b[0m\u001b[0;34m[\u001b[0m\u001b[0;36m10\u001b[0m\u001b[0;34m,\u001b[0m \u001b[0;36m11\u001b[0m\u001b[0;34m]\u001b[0m\u001b[0;34m,\u001b[0m\u001b[0;34m[\u001b[0m\u001b[0;36m12\u001b[0m\u001b[0;34m,\u001b[0m \u001b[0;36m13\u001b[0m\u001b[0;34m]\u001b[0m\u001b[0;34m]\u001b[0m\u001b[0;34m)\u001b[0m\u001b[0;34m\u001b[0m\u001b[0m\n\u001b[0;32m----> 5\u001b[0;31m \u001b[0mg_in\u001b[0m \u001b[0;34m=\u001b[0m \u001b[0mcp\u001b[0m\u001b[0;34m.\u001b[0m\u001b[0mlinalg\u001b[0m\u001b[0;34m.\u001b[0m\u001b[0minv\u001b[0m\u001b[0;34m(\u001b[0m\u001b[0mg\u001b[0m\u001b[0;34m)\u001b[0m\u001b[0;34m\u001b[0m\u001b[0m\n\u001b[0m\u001b[1;32m      6\u001b[0m \u001b[0;31m#g_in = cp.linalg.inv(g)\u001b[0m\u001b[0;34m\u001b[0m\u001b[0;34m\u001b[0m\u001b[0m\n\u001b[1;32m      7\u001b[0m \u001b[0mprint\u001b[0m\u001b[0;34m(\u001b[0m\u001b[0mg_in\u001b[0m\u001b[0;34m)\u001b[0m\u001b[0;34m\u001b[0m\u001b[0m\n",
      "\u001b[0;32m~/.pyenv/versions/3.5.2/lib/python3.5/site-packages/cupy/linalg/solve.py\u001b[0m in \u001b[0;36minv\u001b[0;34m(a)\u001b[0m\n\u001b[1;32m    167\u001b[0m     \"\"\"\n\u001b[1;32m    168\u001b[0m     \u001b[0;32mif\u001b[0m \u001b[0;32mnot\u001b[0m \u001b[0mcuda\u001b[0m\u001b[0;34m.\u001b[0m\u001b[0mcusolver_enabled\u001b[0m\u001b[0;34m:\u001b[0m\u001b[0;34m\u001b[0m\u001b[0m\n\u001b[0;32m--> 169\u001b[0;31m         \u001b[0;32mraise\u001b[0m \u001b[0mRuntimeError\u001b[0m\u001b[0;34m(\u001b[0m\u001b[0;34m'Current cupy only supports cusolver in CUDA 8.0'\u001b[0m\u001b[0;34m)\u001b[0m\u001b[0;34m\u001b[0m\u001b[0m\n\u001b[0m\u001b[1;32m    170\u001b[0m \u001b[0;34m\u001b[0m\u001b[0m\n\u001b[1;32m    171\u001b[0m     \u001b[0;31m# to prevent `a` to be overwritten\u001b[0m\u001b[0;34m\u001b[0m\u001b[0;34m\u001b[0m\u001b[0m\n",
      "\u001b[0;31mRuntimeError\u001b[0m: Current cupy only supports cusolver in CUDA 8.0"
     ]
    }
   ],
   "source": [
    "import cupy as cp\n",
    "\n",
    "print(cp.__version__)\n",
    "g = cp.array([[10, 11],[12, 13]])\n",
    "g_in = cp.linalg.inv(g)\n",
    "#g_in = cp.linalg.inv(g)\n",
    "print(g_in)"
   ]
  },
  {
   "cell_type": "markdown",
   "metadata": {},
   "source": [
    "### numpy 擬似逆行列 エラー対策"
   ]
  },
  {
   "cell_type": "code",
   "execution_count": 25,
   "metadata": {},
   "outputs": [
    {
     "data": {
      "text/plain": [
       "array([[1., 0., 0., ..., 0., 0., 0.],\n",
       "       [0., 1., 0., ..., 0., 0., 0.],\n",
       "       [0., 0., 1., ..., 0., 0., 0.],\n",
       "       ...,\n",
       "       [0., 0., 0., ..., 1., 0., 0.],\n",
       "       [0., 0., 0., ..., 0., 1., 0.],\n",
       "       [0., 0., 0., ..., 0., 0., 1.]])"
      ]
     },
     "execution_count": 25,
     "metadata": {},
     "output_type": "execute_result"
    }
   ],
   "source": [
    "import numpy as np\n",
    "\n",
    "Q = np.mat([[10**15, 10**15, 20**15], [20**10, 10**10, 15**10], [25**10, 21**10, 13**10]])\n",
    "Q = np.mat(np.random.rand(100, 100))\n",
    "Q = np.eye(100)\n",
    "Qi = np.linalg.pinv(Q)\n",
    "Qi"
   ]
  },
  {
   "cell_type": "markdown",
   "metadata": {},
   "source": [
    "### nanのとき，エラー表示"
   ]
  },
  {
   "cell_type": "code",
   "execution_count": 22,
   "metadata": {},
   "outputs": [
    {
     "name": "stdout",
     "output_type": "stream",
     "text": [
      "nan\n"
     ]
    },
    {
     "name": "stderr",
     "output_type": "stream",
     "text": [
      "/mnt/nfs/takagi/.pyenv/versions/3.5.2/lib/python3.5/site-packages/ipykernel_launcher.py:3: RuntimeWarning: invalid value encountered in log\n",
      "  This is separate from the ipykernel package so we can avoid doing imports until\n"
     ]
    }
   ],
   "source": [
    "import numpy as np\n",
    "#nan = float(\"nan\")\n",
    "a = np.log(-10)\n",
    "print(a)\n",
    "if(a == np.nan):\n",
    "    print(\"error\")"
   ]
  },
  {
   "cell_type": "markdown",
   "metadata": {},
   "source": [
    "### 多変量ガウス分布サンプル "
   ]
  },
  {
   "cell_type": "code",
   "execution_count": 1,
   "metadata": {},
   "outputs": [
    {
     "data": {
      "text/plain": [
       "array([-0.47169268,  3.18630372])"
      ]
     },
     "execution_count": 1,
     "metadata": {},
     "output_type": "execute_result"
    }
   ],
   "source": [
    "import numpy as np\n",
    "\n",
    "mu = np.array([1, 2])\n",
    "cov = np.array([[1, 0], [0, 1]])\n",
    "\n",
    "\"\"\"mu = np.mat(np.array([1, 2]))\n",
    "cov = np.mat(np.array([[1, 0], [0, 1]]))\"\"\"\n",
    "\n",
    "x = np.random.multivariate_normal(mu, cov)\n",
    "x"
   ]
  },
  {
   "cell_type": "markdown",
   "metadata": {},
   "source": [
    "### mat行列の積"
   ]
  },
  {
   "cell_type": "code",
   "execution_count": 10,
   "metadata": {},
   "outputs": [
    {
     "name": "stdout",
     "output_type": "stream",
     "text": [
      "A\n",
      "[[1. 0. 0. 0. 0.]\n",
      " [0. 1. 0. 0. 0.]\n",
      " [0. 0. 1. 0. 0.]\n",
      " [0. 0. 0. 1. 0.]\n",
      " [0. 0. 0. 0. 1.]]\n",
      "C\n",
      "[[1. 0. 0. 0. 0.]\n",
      " [0. 1. 0. 0. 0.]\n",
      " [0. 0. 1. 0. 0.]\n",
      " [0. 0. 0. 1. 0.]\n",
      " [0. 0. 0. 0. 1.]\n",
      " [0. 0. 0. 0. 0.]\n",
      " [0. 0. 0. 0. 0.]\n",
      " [0. 0. 0. 0. 0.]\n",
      " [0. 0. 0. 0. 0.]\n",
      " [0. 0. 0. 0. 0.]]\n",
      "Q\n",
      "[[1. 0. 0. 0. 0.]\n",
      " [0. 1. 0. 0. 0.]\n",
      " [0. 0. 1. 0. 0.]\n",
      " [0. 0. 0. 1. 0.]\n",
      " [0. 0. 0. 0. 1.]]\n",
      "R\n",
      "[[1. 0. 0. 0. 0. 0. 0. 0. 0. 0.]\n",
      " [0. 1. 0. 0. 0. 0. 0. 0. 0. 0.]\n",
      " [0. 0. 1. 0. 0. 0. 0. 0. 0. 0.]\n",
      " [0. 0. 0. 1. 0. 0. 0. 0. 0. 0.]\n",
      " [0. 0. 0. 0. 1. 0. 0. 0. 0. 0.]\n",
      " [0. 0. 0. 0. 0. 1. 0. 0. 0. 0.]\n",
      " [0. 0. 0. 0. 0. 0. 1. 0. 0. 0.]\n",
      " [0. 0. 0. 0. 0. 0. 0. 1. 0. 0.]\n",
      " [0. 0. 0. 0. 0. 0. 0. 0. 1. 0.]\n",
      " [0. 0. 0. 0. 0. 0. 0. 0. 0. 1.]]\n",
      "X\n",
      "(5, 1)\n",
      "Y\n",
      "(10, 1)\n",
      "\n",
      "x_a\n",
      "(5, 1)\n",
      "x_b\n",
      "(5, 1)\n",
      "\n",
      "y_a\n",
      "(10, 1)\n",
      "y_b\n",
      "(10, 1)\n",
      "\n"
     ]
    }
   ],
   "source": [
    "import numpy as np\n",
    "\n",
    "dms = 5\n",
    "dmo = 10\n",
    "dt = 0.1\n",
    "x =np.mat(np.zeros([dms, 1]))\n",
    "A = np.mat(np.eye(dms, dms))\n",
    "C = np.mat(np.eye(dmo, dms))\n",
    "Q = np.mat(np.eye(dms, dms))\n",
    "R = np.mat(np.eye(dmo, dmo))\n",
    "    \n",
    "print(\"A\\n%s\\nC\\n%s\\nQ\\n%s\\nR\\n%s\" % (A, C, Q, R))\n",
    "    \n",
    "    \n",
    "#x = A * x + np.mat(np.random.multivariate_normal((0,0),Q)).T\n",
    "x = A * x + np.mat(np.random.multivariate_normal(np.zeros(dms).tolist(),Q)).T\n",
    "#y = C * x + np.mat(np.random.normal(0,1)).T\n",
    "#y = C * x + np.mat(np.random.normal(np.zeros(dmo).tolist(),R)).T\n",
    "y = C * x + np.mat(np.random.multivariate_normal(np.zeros(dmo).tolist(),R)).T\n",
    "       \n",
    "print(\"X\\n%s\\nY\\n%s\\n\" % (x.shape, y.shape))\n",
    "\n",
    "x_a = A * x\n",
    "#x_b = np.mat(np.random.normal(np.zeros(dms).tolist(),Q)).T\n",
    "x_b = np.mat(np.random.multivariate_normal(np.zeros(dms).tolist(), Q)).T\n",
    "print(\"x_a\\n%s\\nx_b\\n%s\\n\" % (x_a.shape, x_b.shape))\n",
    "\n",
    "y_a = C * x\n",
    "#y_b = np.mat(np.random.normal(np.zeros(dmo).tolist(),R)).T\n",
    "y_b = np.mat(np.random.multivariate_normal(np.zeros(dmo).tolist(), R)).T\n",
    "print(\"y_a\\n%s\\ny_b\\n%s\\n\" % (y_a.shape, y_b.shape))"
   ]
  },
  {
   "cell_type": "markdown",
   "metadata": {},
   "source": [
    "### 多変量ガウス確率密度関数"
   ]
  },
  {
   "cell_type": "code",
   "execution_count": 5,
   "metadata": {},
   "outputs": [],
   "source": [
    "import numpy as np\n",
    "\n",
    "dms = 5\n",
    "dmo = 10\n",
    "\n",
    "ums = np.mat(np.eye(dms))\n",
    "umo = np.mat(np.eye(dmo))\n",
    "    \n",
    "A_u = np.mat(np.random.rand(dms,dms))\n",
    "A = np.array(np.multiply(A_u, ums))\n",
    "C = np.array(np.mat(np.random.rand(dmo,dms)))\n",
    "    \n",
    "Q_u = np.mat(np.random.rand(dms,dms))\n",
    "Q = np.array(np.multiply(Q_u, ums))\n",
    "R_u = np.mat(np.random.rand(dmo,dmo))\n",
    "R = np.array(np.multiply(R_u, umo))\n",
    "\n",
    "pi_1 = np.array(np.mat(np.random.rand(dms,1)))\n",
    "V_1_u = np.mat(np.random.rand(dms,dms))\n",
    "V_1 = np.array(np.multiply(V_1_u, ums))"
   ]
  },
  {
   "cell_type": "code",
   "execution_count": 7,
   "metadata": {},
   "outputs": [],
   "source": [
    "x =np.mat(np.zeros([dms, 1]))\n",
    "\n",
    "X = [] # 状態\n",
    "Y = [] # 観測\n",
    "K = 500 # サンプル数\n",
    "for i in range(K):\n",
    "    #x = A * x + np.mat(np.random.multivariate_normal((0,0),Q)).T\n",
    "    #x = A * x + np.mat(np.random.multivariate_normal(np.zeros(dms).tolist(),Q)).T\n",
    "    #y = C * x + np.mat(np.random.normal(0,1)).T\n",
    "    #y = C * x + np.mat(np.random.normal(np.zeros(dmo).tolist(),R)).T \n",
    "    x = A * x + np.mat(np.random.multivariate_normal(np.zeros(dms).tolist(),Q)).T\n",
    "    y = C * x + np.mat(np.random.multivariate_normal(np.zeros(dmo).tolist(),R)).T\n",
    "    X.append(x)\n",
    "    Y.append(y)   "
   ]
  },
  {
   "cell_type": "code",
   "execution_count": 8,
   "metadata": {},
   "outputs": [
    {
     "data": {
      "text/plain": [
       "array([6.31706605e-03, 1.33729811e-05, 6.36538054e-08, 2.78469186e-02,\n",
       "       1.55946711e-06])"
      ]
     },
     "execution_count": 8,
     "metadata": {},
     "output_type": "execute_result"
    }
   ],
   "source": [
    "from scipy.stats import multivariate_normal\n",
    "\n",
    "y = multivariate_normal.pdf(X[0], mean=(pi_1.T)[0], cov=V_1)\n",
    "y"
   ]
  },
  {
   "cell_type": "code",
   "execution_count": 23,
   "metadata": {},
   "outputs": [
    {
     "name": "stdout",
     "output_type": "stream",
     "text": [
      "(100, 100)\n",
      "(100, 1)\n",
      "(100, 1)\n",
      "[[0.15193257 0.         0.         ... 0.         0.         0.        ]\n",
      " [0.         0.05398564 0.         ... 0.         0.         0.        ]\n",
      " [0.         0.         0.34389798 ... 0.         0.         0.        ]\n",
      " ...\n",
      " [0.         0.         0.         ... 0.43576512 0.         0.        ]\n",
      " [0.         0.         0.         ... 0.         0.3251632  0.        ]\n",
      " [0.         0.         0.         ... 0.         0.         0.92786132]]\n"
     ]
    },
    {
     "ename": "ValueError",
     "evalue": "cannot reshape array of size 10000 into shape (1,1)",
     "output_type": "error",
     "traceback": [
      "\u001b[0;31m---------------------------------------------------------------------------\u001b[0m",
      "\u001b[0;31mValueError\u001b[0m                                Traceback (most recent call last)",
      "\u001b[0;32m<ipython-input-23-bff0ae863a8f>\u001b[0m in \u001b[0;36m<module>\u001b[0;34m()\u001b[0m\n\u001b[1;32m     41\u001b[0m     \u001b[0mY\u001b[0m\u001b[0;34m.\u001b[0m\u001b[0mappend\u001b[0m\u001b[0;34m(\u001b[0m\u001b[0my\u001b[0m\u001b[0;34m)\u001b[0m\u001b[0;34m\u001b[0m\u001b[0m\n\u001b[1;32m     42\u001b[0m \u001b[0;34m\u001b[0m\u001b[0m\n\u001b[0;32m---> 43\u001b[0;31m \u001b[0mp\u001b[0m \u001b[0;34m=\u001b[0m \u001b[0mmultivariate_normal\u001b[0m\u001b[0;34m.\u001b[0m\u001b[0mpdf\u001b[0m\u001b[0;34m(\u001b[0m\u001b[0mX\u001b[0m\u001b[0;34m[\u001b[0m\u001b[0;36m0\u001b[0m\u001b[0;34m]\u001b[0m\u001b[0;34m.\u001b[0m\u001b[0mT\u001b[0m\u001b[0;34m,\u001b[0m \u001b[0mmean\u001b[0m\u001b[0;34m=\u001b[0m\u001b[0mpi_1\u001b[0m\u001b[0;34m[\u001b[0m\u001b[0;36m0\u001b[0m\u001b[0;34m]\u001b[0m\u001b[0;34m,\u001b[0m \u001b[0mcov\u001b[0m\u001b[0;34m=\u001b[0m\u001b[0mV_1\u001b[0m\u001b[0;34m)\u001b[0m\u001b[0;34m\u001b[0m\u001b[0m\n\u001b[0m\u001b[1;32m     44\u001b[0m \u001b[0mp\u001b[0m\u001b[0;34m\u001b[0m\u001b[0m\n",
      "\u001b[0;32m~/.pyenv/versions/3.5.2/lib/python3.5/site-packages/scipy/stats/_multivariate.py\u001b[0m in \u001b[0;36mpdf\u001b[0;34m(self, x, mean, cov, allow_singular)\u001b[0m\n\u001b[1;32m    508\u001b[0m \u001b[0;34m\u001b[0m\u001b[0m\n\u001b[1;32m    509\u001b[0m         \"\"\"\n\u001b[0;32m--> 510\u001b[0;31m         \u001b[0mdim\u001b[0m\u001b[0;34m,\u001b[0m \u001b[0mmean\u001b[0m\u001b[0;34m,\u001b[0m \u001b[0mcov\u001b[0m \u001b[0;34m=\u001b[0m \u001b[0mself\u001b[0m\u001b[0;34m.\u001b[0m\u001b[0m_process_parameters\u001b[0m\u001b[0;34m(\u001b[0m\u001b[0;32mNone\u001b[0m\u001b[0;34m,\u001b[0m \u001b[0mmean\u001b[0m\u001b[0;34m,\u001b[0m \u001b[0mcov\u001b[0m\u001b[0;34m)\u001b[0m\u001b[0;34m\u001b[0m\u001b[0m\n\u001b[0m\u001b[1;32m    511\u001b[0m         \u001b[0mx\u001b[0m \u001b[0;34m=\u001b[0m \u001b[0mself\u001b[0m\u001b[0;34m.\u001b[0m\u001b[0m_process_quantiles\u001b[0m\u001b[0;34m(\u001b[0m\u001b[0mx\u001b[0m\u001b[0;34m,\u001b[0m \u001b[0mdim\u001b[0m\u001b[0;34m)\u001b[0m\u001b[0;34m\u001b[0m\u001b[0m\n\u001b[1;32m    512\u001b[0m         \u001b[0mpsd\u001b[0m \u001b[0;34m=\u001b[0m \u001b[0m_PSD\u001b[0m\u001b[0;34m(\u001b[0m\u001b[0mcov\u001b[0m\u001b[0;34m,\u001b[0m \u001b[0mallow_singular\u001b[0m\u001b[0;34m=\u001b[0m\u001b[0mallow_singular\u001b[0m\u001b[0;34m)\u001b[0m\u001b[0;34m\u001b[0m\u001b[0m\n",
      "\u001b[0;32m~/.pyenv/versions/3.5.2/lib/python3.5/site-packages/scipy/stats/_multivariate.py\u001b[0m in \u001b[0;36m_process_parameters\u001b[0;34m(self, dim, mean, cov)\u001b[0m\n\u001b[1;32m    393\u001b[0m         \u001b[0;32mif\u001b[0m \u001b[0mdim\u001b[0m \u001b[0;34m==\u001b[0m \u001b[0;36m1\u001b[0m\u001b[0;34m:\u001b[0m\u001b[0;34m\u001b[0m\u001b[0m\n\u001b[1;32m    394\u001b[0m             \u001b[0mmean\u001b[0m\u001b[0;34m.\u001b[0m\u001b[0mshape\u001b[0m \u001b[0;34m=\u001b[0m \u001b[0;34m(\u001b[0m\u001b[0;36m1\u001b[0m\u001b[0;34m,\u001b[0m\u001b[0;34m)\u001b[0m\u001b[0;34m\u001b[0m\u001b[0m\n\u001b[0;32m--> 395\u001b[0;31m             \u001b[0mcov\u001b[0m\u001b[0;34m.\u001b[0m\u001b[0mshape\u001b[0m \u001b[0;34m=\u001b[0m \u001b[0;34m(\u001b[0m\u001b[0;36m1\u001b[0m\u001b[0;34m,\u001b[0m \u001b[0;36m1\u001b[0m\u001b[0;34m)\u001b[0m\u001b[0;34m\u001b[0m\u001b[0m\n\u001b[0m\u001b[1;32m    396\u001b[0m \u001b[0;34m\u001b[0m\u001b[0m\n\u001b[1;32m    397\u001b[0m         \u001b[0;32mif\u001b[0m \u001b[0mmean\u001b[0m\u001b[0;34m.\u001b[0m\u001b[0mndim\u001b[0m \u001b[0;34m!=\u001b[0m \u001b[0;36m1\u001b[0m \u001b[0;32mor\u001b[0m \u001b[0mmean\u001b[0m\u001b[0;34m.\u001b[0m\u001b[0mshape\u001b[0m\u001b[0;34m[\u001b[0m\u001b[0;36m0\u001b[0m\u001b[0;34m]\u001b[0m \u001b[0;34m!=\u001b[0m \u001b[0mdim\u001b[0m\u001b[0;34m:\u001b[0m\u001b[0;34m\u001b[0m\u001b[0m\n",
      "\u001b[0;31mValueError\u001b[0m: cannot reshape array of size 10000 into shape (1,1)"
     ]
    }
   ],
   "source": [
    "import numpy as np\n",
    "from scipy.stats import multivariate_normal\n",
    "\n",
    "#テストデータ生成(次元を自由に変更可能)\n",
    "dms = 100\n",
    "dmo = 100\n",
    "dt = 0.1\n",
    "ums = np.mat(np.eye(dms))\n",
    "umo = np.mat(np.eye(dmo))\n",
    "\n",
    "x =np.mat(np.zeros([dms, 1]))\n",
    "A = np.mat(np.eye(dms, dms))\n",
    "C = np.mat(np.eye(dmo, dms))\n",
    "Q = np.mat(np.eye(dms, dms))\n",
    "R = np.mat(np.eye(dmo, dmo))\n",
    "pi_1 = np.mat(np.random.rand(dms,1))\n",
    "V_1_u = np.mat(np.random.rand(dms,dms))\n",
    "V_1 = np.multiply(V_1_u, ums)\n",
    "\n",
    "\"\"\"print(len((pi_1.T)[0]))\n",
    "print(len(pi_1))\n",
    "print((pi_1.T)[0])\n",
    "print(pi_1)\"\"\"\n",
    "print(V_1.shape)\n",
    "print(pi_1.shape)\n",
    "print(x.shape)\n",
    "print(V_1)\n",
    "#print(x)\n",
    "    \n",
    "X = [] # 状態\n",
    "Y = [] # 観測\n",
    "K = 500 # サンプル数\n",
    "for i in range(K):\n",
    "    #x = A * x + np.mat(np.random.multivariate_normal((0,0),Q)).T\n",
    "    #x = A * x + np.mat(np.random.multivariate_normal(np.zeros(dms).tolist(),Q)).T\n",
    "    #y = C * x + np.mat(np.random.normal(0,1)).T\n",
    "    #y = C * x + np.mat(np.random.normal(np.zeros(dmo).tolist(),R)).T \n",
    "    x = A * x + np.mat(np.random.multivariate_normal(np.zeros(dms).tolist(),Q)).T\n",
    "    y = C * x + np.mat(np.random.multivariate_normal(np.zeros(dmo).tolist(),R)).T\n",
    "    X.append(x)\n",
    "    Y.append(y)\n",
    "\n",
    "p = multivariate_normal.pdf(X[0].T, mean=pi_1[0], cov=V_1)\n",
    "p"
   ]
  },
  {
   "cell_type": "code",
   "execution_count": 31,
   "metadata": {},
   "outputs": [
    {
     "name": "stdout",
     "output_type": "stream",
     "text": [
      "1\n",
      "[3]\n",
      "1\n"
     ]
    },
    {
     "data": {
      "text/plain": [
       "array([0.39894228, 0.24197072, 0.05399097])"
      ]
     },
     "execution_count": 31,
     "metadata": {},
     "output_type": "execute_result"
    }
   ],
   "source": [
    "from scipy.stats import multivariate_normal\n",
    "import numpy as np\n",
    "\n",
    "x_e = np.array([[3], [2], [1]])\n",
    "m_e = np.array([[3], [2], [1]])\n",
    "c_e = np.array([[1, 3, 3], [2, 3, 4], [4, 6, 1]])\n",
    "\n",
    "print(len(m_e[0]))\n",
    "\n",
    "print(m_e[0])\n",
    "print(c_e[0][0])\n",
    "\n",
    "p = multivariate_normal.pdf(x_e, mean=m_e[0], cov=c_e[0][0])\n",
    "p"
   ]
  },
  {
   "cell_type": "code",
   "execution_count": 36,
   "metadata": {},
   "outputs": [
    {
     "data": {
      "text/plain": [
       "array([0.14235251, 0.14235251, 0.14235251, 0.14235251, 0.14235251,\n",
       "       0.14235251, 0.14235251, 0.14235251, 0.14235251, 0.14235251])"
      ]
     },
     "execution_count": 36,
     "metadata": {},
     "output_type": "execute_result"
    }
   ],
   "source": [
    "from scipy.stats import multivariate_normal\n",
    "import numpy as np\n",
    "\n",
    "N = 10\n",
    "X = np.linspace(-4, 4, N)\n",
    "pos = np.empty(X.shape + (2,))\n",
    "\n",
    "mu_multi = np.array([0., 0.])\n",
    "Sigma_multi = np.array([[ 1. , -0.5], [-0.5,  1.5]])\n",
    "\n",
    "F = multivariate_normal(mu_multi, Sigma_multi)\n",
    "p_multi = F.pdf(pos)\n",
    "p_multi"
   ]
  },
  {
   "cell_type": "code",
   "execution_count": 41,
   "metadata": {},
   "outputs": [
    {
     "data": {
      "text/plain": [
       "0.09653235263005393"
      ]
     },
     "execution_count": 41,
     "metadata": {},
     "output_type": "execute_result"
    }
   ],
   "source": [
    "from scipy.stats import multivariate_normal\n",
    "var = multivariate_normal(mean=[0,0], cov=[[1,0],[0,1]])\n",
    "var.pdf([1,0])"
   ]
  },
  {
   "cell_type": "code",
   "execution_count": 50,
   "metadata": {},
   "outputs": [
    {
     "data": {
      "text/plain": [
       "0.0781247131926453"
      ]
     },
     "execution_count": 50,
     "metadata": {},
     "output_type": "execute_result"
    }
   ],
   "source": [
    "from scipy.stats import multivariate_normal\n",
    "import numpy as np\n",
    "\n",
    "mu_multi = np.array([0., 0.])\n",
    "Sigma_multi = np.array([[ 1. , -0.5], [-0.5,  1.5]])\n",
    "\n",
    "var = multivariate_normal(mean=mu_multi, cov=Sigma_multi)\n",
    "var.pdf([1,0])"
   ]
  },
  {
   "cell_type": "code",
   "execution_count": 63,
   "metadata": {},
   "outputs": [
    {
     "name": "stdout",
     "output_type": "stream",
     "text": [
      "[[0.0, 0.0]]\n",
      "[[1.0, -0.5], [-0.5, 1.5]]\n"
     ]
    },
    {
     "data": {
      "text/plain": [
       "0.0781247131926453"
      ]
     },
     "execution_count": 63,
     "metadata": {},
     "output_type": "execute_result"
    }
   ],
   "source": [
    "from scipy.stats import multivariate_normal\n",
    "import numpy as np\n",
    "\n",
    "mu_multi = np.array([0., 0.])\n",
    "Sigma_multi = np.array([[ 1. , -0.5], [-0.5,  1.5]])\n",
    "\n",
    "mu_multi = np.mat([0., 0.]).tolist()\n",
    "Sigma_multi = np.mat([[ 1. , -0.5], [-0.5,  1.5]]).tolist()\n",
    "\n",
    "print(mu_multi)\n",
    "print(Sigma_multi)\n",
    "\"\"\"print(mu_multi.tolist())\n",
    "print(Sigma_multi.tolist())\"\"\"\n",
    "\n",
    "var = multivariate_normal(mean=mu_multi[0], cov=Sigma_multi)\n",
    "var.pdf([1,0])"
   ]
  },
  {
   "cell_type": "code",
   "execution_count": 70,
   "metadata": {},
   "outputs": [
    {
     "name": "stdout",
     "output_type": "stream",
     "text": [
      "[[0. 0.]]\n",
      "[[ 1.  -0.5]\n",
      " [-0.5  1.5]]\n"
     ]
    },
    {
     "data": {
      "text/plain": [
       "-2.5494488420664503"
      ]
     },
     "execution_count": 70,
     "metadata": {},
     "output_type": "execute_result"
    }
   ],
   "source": [
    "from scipy.stats import multivariate_normal\n",
    "import numpy as np\n",
    "\n",
    "mu_multi = np.mat([0., 0.])\n",
    "Sigma_multi = np.mat([[ 1. , -0.5], [-0.5,  1.5]])\n",
    "\n",
    "mu_multi_l = mu_multi.tolist()\n",
    "Sigma_multi_l = Sigma_multi.tolist()\n",
    "\n",
    "print(mu_multi)\n",
    "print(Sigma_multi)\n",
    "\"\"\"print(mu_multi.tolist())\n",
    "print(Sigma_multi.tolist())\"\"\"\n",
    "\n",
    "var = multivariate_normal(mean=mu_multi_l[0], cov=Sigma_multi_l)\n",
    "var.logpdf([1,0])"
   ]
  },
  {
   "cell_type": "code",
   "execution_count": 56,
   "metadata": {},
   "outputs": [
    {
     "ename": "ValueError",
     "evalue": "Array 'mean' must be a vector of length 2.",
     "output_type": "error",
     "traceback": [
      "\u001b[0;31m---------------------------------------------------------------------------\u001b[0m",
      "\u001b[0;31mValueError\u001b[0m                                Traceback (most recent call last)",
      "\u001b[0;32m<ipython-input-56-ee1ff57eda2d>\u001b[0m in \u001b[0;36m<module>\u001b[0;34m()\u001b[0m\n\u001b[1;32m      5\u001b[0m \u001b[0mSigma_multi\u001b[0m \u001b[0;34m=\u001b[0m \u001b[0mnp\u001b[0m\u001b[0;34m.\u001b[0m\u001b[0marray\u001b[0m\u001b[0;34m(\u001b[0m\u001b[0mnp\u001b[0m\u001b[0;34m.\u001b[0m\u001b[0mmat\u001b[0m\u001b[0;34m(\u001b[0m\u001b[0;34m[\u001b[0m\u001b[0;34m[\u001b[0m \u001b[0;36m1.\u001b[0m \u001b[0;34m,\u001b[0m \u001b[0;34m-\u001b[0m\u001b[0;36m0.5\u001b[0m\u001b[0;34m]\u001b[0m\u001b[0;34m,\u001b[0m \u001b[0;34m[\u001b[0m\u001b[0;34m-\u001b[0m\u001b[0;36m0.5\u001b[0m\u001b[0;34m,\u001b[0m  \u001b[0;36m1.5\u001b[0m\u001b[0;34m]\u001b[0m\u001b[0;34m]\u001b[0m\u001b[0;34m)\u001b[0m\u001b[0;34m.\u001b[0m\u001b[0mtolist\u001b[0m\u001b[0;34m(\u001b[0m\u001b[0;34m)\u001b[0m\u001b[0;34m)\u001b[0m\u001b[0;34m\u001b[0m\u001b[0m\n\u001b[1;32m      6\u001b[0m \u001b[0;34m\u001b[0m\u001b[0m\n\u001b[0;32m----> 7\u001b[0;31m \u001b[0mvar\u001b[0m \u001b[0;34m=\u001b[0m \u001b[0mmultivariate_normal\u001b[0m\u001b[0;34m(\u001b[0m\u001b[0mmean\u001b[0m\u001b[0;34m=\u001b[0m\u001b[0mmu_multi\u001b[0m\u001b[0;34m,\u001b[0m \u001b[0mcov\u001b[0m\u001b[0;34m=\u001b[0m\u001b[0mSigma_multi\u001b[0m\u001b[0;34m)\u001b[0m\u001b[0;34m\u001b[0m\u001b[0m\n\u001b[0m\u001b[1;32m      8\u001b[0m \u001b[0mvar\u001b[0m\u001b[0;34m.\u001b[0m\u001b[0mpdf\u001b[0m\u001b[0;34m(\u001b[0m\u001b[0;34m[\u001b[0m\u001b[0;36m1\u001b[0m\u001b[0;34m,\u001b[0m\u001b[0;36m0\u001b[0m\u001b[0;34m]\u001b[0m\u001b[0;34m)\u001b[0m\u001b[0;34m\u001b[0m\u001b[0m\n",
      "\u001b[0;32m~/.pyenv/versions/3.5.2/lib/python3.5/site-packages/scipy/stats/_multivariate.py\u001b[0m in \u001b[0;36m__call__\u001b[0;34m(self, mean, cov, allow_singular, seed)\u001b[0m\n\u001b[1;32m    355\u001b[0m         return multivariate_normal_frozen(mean, cov,\n\u001b[1;32m    356\u001b[0m                                           \u001b[0mallow_singular\u001b[0m\u001b[0;34m=\u001b[0m\u001b[0mallow_singular\u001b[0m\u001b[0;34m,\u001b[0m\u001b[0;34m\u001b[0m\u001b[0m\n\u001b[0;32m--> 357\u001b[0;31m                                           seed=seed)\n\u001b[0m\u001b[1;32m    358\u001b[0m \u001b[0;34m\u001b[0m\u001b[0m\n\u001b[1;32m    359\u001b[0m     \u001b[0;32mdef\u001b[0m \u001b[0m_process_parameters\u001b[0m\u001b[0;34m(\u001b[0m\u001b[0mself\u001b[0m\u001b[0;34m,\u001b[0m \u001b[0mdim\u001b[0m\u001b[0;34m,\u001b[0m \u001b[0mmean\u001b[0m\u001b[0;34m,\u001b[0m \u001b[0mcov\u001b[0m\u001b[0;34m)\u001b[0m\u001b[0;34m:\u001b[0m\u001b[0;34m\u001b[0m\u001b[0m\n",
      "\u001b[0;32m~/.pyenv/versions/3.5.2/lib/python3.5/site-packages/scipy/stats/_multivariate.py\u001b[0m in \u001b[0;36m__init__\u001b[0;34m(self, mean, cov, allow_singular, seed, maxpts, abseps, releps)\u001b[0m\n\u001b[1;32m    724\u001b[0m         \u001b[0mself\u001b[0m\u001b[0;34m.\u001b[0m\u001b[0m_dist\u001b[0m \u001b[0;34m=\u001b[0m \u001b[0mmultivariate_normal_gen\u001b[0m\u001b[0;34m(\u001b[0m\u001b[0mseed\u001b[0m\u001b[0;34m)\u001b[0m\u001b[0;34m\u001b[0m\u001b[0m\n\u001b[1;32m    725\u001b[0m         self.dim, self.mean, self.cov = self._dist._process_parameters(\n\u001b[0;32m--> 726\u001b[0;31m                                                             None, mean, cov)\n\u001b[0m\u001b[1;32m    727\u001b[0m         \u001b[0mself\u001b[0m\u001b[0;34m.\u001b[0m\u001b[0mcov_info\u001b[0m \u001b[0;34m=\u001b[0m \u001b[0m_PSD\u001b[0m\u001b[0;34m(\u001b[0m\u001b[0mself\u001b[0m\u001b[0;34m.\u001b[0m\u001b[0mcov\u001b[0m\u001b[0;34m,\u001b[0m \u001b[0mallow_singular\u001b[0m\u001b[0;34m=\u001b[0m\u001b[0mallow_singular\u001b[0m\u001b[0;34m)\u001b[0m\u001b[0;34m\u001b[0m\u001b[0m\n\u001b[1;32m    728\u001b[0m         \u001b[0;32mif\u001b[0m \u001b[0;32mnot\u001b[0m \u001b[0mmaxpts\u001b[0m\u001b[0;34m:\u001b[0m\u001b[0;34m\u001b[0m\u001b[0m\n",
      "\u001b[0;32m~/.pyenv/versions/3.5.2/lib/python3.5/site-packages/scipy/stats/_multivariate.py\u001b[0m in \u001b[0;36m_process_parameters\u001b[0;34m(self, dim, mean, cov)\u001b[0m\n\u001b[1;32m    396\u001b[0m \u001b[0;34m\u001b[0m\u001b[0m\n\u001b[1;32m    397\u001b[0m         \u001b[0;32mif\u001b[0m \u001b[0mmean\u001b[0m\u001b[0;34m.\u001b[0m\u001b[0mndim\u001b[0m \u001b[0;34m!=\u001b[0m \u001b[0;36m1\u001b[0m \u001b[0;32mor\u001b[0m \u001b[0mmean\u001b[0m\u001b[0;34m.\u001b[0m\u001b[0mshape\u001b[0m\u001b[0;34m[\u001b[0m\u001b[0;36m0\u001b[0m\u001b[0;34m]\u001b[0m \u001b[0;34m!=\u001b[0m \u001b[0mdim\u001b[0m\u001b[0;34m:\u001b[0m\u001b[0;34m\u001b[0m\u001b[0m\n\u001b[0;32m--> 398\u001b[0;31m             \u001b[0;32mraise\u001b[0m \u001b[0mValueError\u001b[0m\u001b[0;34m(\u001b[0m\u001b[0;34m\"Array 'mean' must be a vector of length %d.\"\u001b[0m \u001b[0;34m%\u001b[0m \u001b[0mdim\u001b[0m\u001b[0;34m)\u001b[0m\u001b[0;34m\u001b[0m\u001b[0m\n\u001b[0m\u001b[1;32m    399\u001b[0m         \u001b[0;32mif\u001b[0m \u001b[0mcov\u001b[0m\u001b[0;34m.\u001b[0m\u001b[0mndim\u001b[0m \u001b[0;34m==\u001b[0m \u001b[0;36m0\u001b[0m\u001b[0;34m:\u001b[0m\u001b[0;34m\u001b[0m\u001b[0m\n\u001b[1;32m    400\u001b[0m             \u001b[0mcov\u001b[0m \u001b[0;34m=\u001b[0m \u001b[0mcov\u001b[0m \u001b[0;34m*\u001b[0m \u001b[0mnp\u001b[0m\u001b[0;34m.\u001b[0m\u001b[0meye\u001b[0m\u001b[0;34m(\u001b[0m\u001b[0mdim\u001b[0m\u001b[0;34m)\u001b[0m\u001b[0;34m\u001b[0m\u001b[0m\n",
      "\u001b[0;31mValueError\u001b[0m: Array 'mean' must be a vector of length 2."
     ]
    }
   ],
   "source": [
    "from scipy.stats import multivariate_normal\n",
    "import numpy as np\n",
    "\n",
    "mu_multi = np.array(np.mat([0., 0.]).tolist())\n",
    "Sigma_multi = np.array(np.mat([[ 1. , -0.5], [-0.5,  1.5]]).tolist())\n",
    "\n",
    "var = multivariate_normal(mean=mu_multi, cov=Sigma_multi)\n",
    "var.pdf([1,0])"
   ]
  },
  {
   "cell_type": "code",
   "execution_count": 46,
   "metadata": {},
   "outputs": [
    {
     "ename": "ValueError",
     "evalue": "Array 'mean' must be a vector of length 2.",
     "output_type": "error",
     "traceback": [
      "\u001b[0;31m---------------------------------------------------------------------------\u001b[0m",
      "\u001b[0;31mValueError\u001b[0m                                Traceback (most recent call last)",
      "\u001b[0;32m<ipython-input-46-00b49748eadd>\u001b[0m in \u001b[0;36m<module>\u001b[0;34m()\u001b[0m\n\u001b[1;32m      5\u001b[0m \u001b[0mSigma_multi\u001b[0m \u001b[0;34m=\u001b[0m \u001b[0mnp\u001b[0m\u001b[0;34m.\u001b[0m\u001b[0mmat\u001b[0m\u001b[0;34m(\u001b[0m\u001b[0mnp\u001b[0m\u001b[0;34m.\u001b[0m\u001b[0marray\u001b[0m\u001b[0;34m(\u001b[0m\u001b[0;34m[\u001b[0m\u001b[0;34m[\u001b[0m \u001b[0;36m1.\u001b[0m \u001b[0;34m,\u001b[0m \u001b[0;34m-\u001b[0m\u001b[0;36m0.5\u001b[0m\u001b[0;34m]\u001b[0m\u001b[0;34m,\u001b[0m \u001b[0;34m[\u001b[0m\u001b[0;34m-\u001b[0m\u001b[0;36m0.5\u001b[0m\u001b[0;34m,\u001b[0m  \u001b[0;36m1.5\u001b[0m\u001b[0;34m]\u001b[0m\u001b[0;34m]\u001b[0m\u001b[0;34m)\u001b[0m\u001b[0;34m)\u001b[0m\u001b[0;34m\u001b[0m\u001b[0m\n\u001b[1;32m      6\u001b[0m \u001b[0;34m\u001b[0m\u001b[0m\n\u001b[0;32m----> 7\u001b[0;31m \u001b[0mvar\u001b[0m \u001b[0;34m=\u001b[0m \u001b[0mmultivariate_normal\u001b[0m\u001b[0;34m(\u001b[0m\u001b[0mmean\u001b[0m\u001b[0;34m=\u001b[0m\u001b[0mmu_multi\u001b[0m\u001b[0;34m,\u001b[0m \u001b[0mcov\u001b[0m\u001b[0;34m=\u001b[0m\u001b[0mSigma_multi\u001b[0m\u001b[0;34m)\u001b[0m\u001b[0;34m\u001b[0m\u001b[0m\n\u001b[0m\u001b[1;32m      8\u001b[0m \u001b[0mvar\u001b[0m\u001b[0;34m.\u001b[0m\u001b[0mpdf\u001b[0m\u001b[0;34m(\u001b[0m\u001b[0;34m[\u001b[0m\u001b[0;36m1\u001b[0m\u001b[0;34m,\u001b[0m\u001b[0;36m0\u001b[0m\u001b[0;34m]\u001b[0m\u001b[0;34m)\u001b[0m\u001b[0;34m\u001b[0m\u001b[0m\n",
      "\u001b[0;32m~/.pyenv/versions/3.5.2/lib/python3.5/site-packages/scipy/stats/_multivariate.py\u001b[0m in \u001b[0;36m__call__\u001b[0;34m(self, mean, cov, allow_singular, seed)\u001b[0m\n\u001b[1;32m    355\u001b[0m         return multivariate_normal_frozen(mean, cov,\n\u001b[1;32m    356\u001b[0m                                           \u001b[0mallow_singular\u001b[0m\u001b[0;34m=\u001b[0m\u001b[0mallow_singular\u001b[0m\u001b[0;34m,\u001b[0m\u001b[0;34m\u001b[0m\u001b[0m\n\u001b[0;32m--> 357\u001b[0;31m                                           seed=seed)\n\u001b[0m\u001b[1;32m    358\u001b[0m \u001b[0;34m\u001b[0m\u001b[0m\n\u001b[1;32m    359\u001b[0m     \u001b[0;32mdef\u001b[0m \u001b[0m_process_parameters\u001b[0m\u001b[0;34m(\u001b[0m\u001b[0mself\u001b[0m\u001b[0;34m,\u001b[0m \u001b[0mdim\u001b[0m\u001b[0;34m,\u001b[0m \u001b[0mmean\u001b[0m\u001b[0;34m,\u001b[0m \u001b[0mcov\u001b[0m\u001b[0;34m)\u001b[0m\u001b[0;34m:\u001b[0m\u001b[0;34m\u001b[0m\u001b[0m\n",
      "\u001b[0;32m~/.pyenv/versions/3.5.2/lib/python3.5/site-packages/scipy/stats/_multivariate.py\u001b[0m in \u001b[0;36m__init__\u001b[0;34m(self, mean, cov, allow_singular, seed, maxpts, abseps, releps)\u001b[0m\n\u001b[1;32m    724\u001b[0m         \u001b[0mself\u001b[0m\u001b[0;34m.\u001b[0m\u001b[0m_dist\u001b[0m \u001b[0;34m=\u001b[0m \u001b[0mmultivariate_normal_gen\u001b[0m\u001b[0;34m(\u001b[0m\u001b[0mseed\u001b[0m\u001b[0;34m)\u001b[0m\u001b[0;34m\u001b[0m\u001b[0m\n\u001b[1;32m    725\u001b[0m         self.dim, self.mean, self.cov = self._dist._process_parameters(\n\u001b[0;32m--> 726\u001b[0;31m                                                             None, mean, cov)\n\u001b[0m\u001b[1;32m    727\u001b[0m         \u001b[0mself\u001b[0m\u001b[0;34m.\u001b[0m\u001b[0mcov_info\u001b[0m \u001b[0;34m=\u001b[0m \u001b[0m_PSD\u001b[0m\u001b[0;34m(\u001b[0m\u001b[0mself\u001b[0m\u001b[0;34m.\u001b[0m\u001b[0mcov\u001b[0m\u001b[0;34m,\u001b[0m \u001b[0mallow_singular\u001b[0m\u001b[0;34m=\u001b[0m\u001b[0mallow_singular\u001b[0m\u001b[0;34m)\u001b[0m\u001b[0;34m\u001b[0m\u001b[0m\n\u001b[1;32m    728\u001b[0m         \u001b[0;32mif\u001b[0m \u001b[0;32mnot\u001b[0m \u001b[0mmaxpts\u001b[0m\u001b[0;34m:\u001b[0m\u001b[0;34m\u001b[0m\u001b[0m\n",
      "\u001b[0;32m~/.pyenv/versions/3.5.2/lib/python3.5/site-packages/scipy/stats/_multivariate.py\u001b[0m in \u001b[0;36m_process_parameters\u001b[0;34m(self, dim, mean, cov)\u001b[0m\n\u001b[1;32m    396\u001b[0m \u001b[0;34m\u001b[0m\u001b[0m\n\u001b[1;32m    397\u001b[0m         \u001b[0;32mif\u001b[0m \u001b[0mmean\u001b[0m\u001b[0;34m.\u001b[0m\u001b[0mndim\u001b[0m \u001b[0;34m!=\u001b[0m \u001b[0;36m1\u001b[0m \u001b[0;32mor\u001b[0m \u001b[0mmean\u001b[0m\u001b[0;34m.\u001b[0m\u001b[0mshape\u001b[0m\u001b[0;34m[\u001b[0m\u001b[0;36m0\u001b[0m\u001b[0;34m]\u001b[0m \u001b[0;34m!=\u001b[0m \u001b[0mdim\u001b[0m\u001b[0;34m:\u001b[0m\u001b[0;34m\u001b[0m\u001b[0m\n\u001b[0;32m--> 398\u001b[0;31m             \u001b[0;32mraise\u001b[0m \u001b[0mValueError\u001b[0m\u001b[0;34m(\u001b[0m\u001b[0;34m\"Array 'mean' must be a vector of length %d.\"\u001b[0m \u001b[0;34m%\u001b[0m \u001b[0mdim\u001b[0m\u001b[0;34m)\u001b[0m\u001b[0;34m\u001b[0m\u001b[0m\n\u001b[0m\u001b[1;32m    399\u001b[0m         \u001b[0;32mif\u001b[0m \u001b[0mcov\u001b[0m\u001b[0;34m.\u001b[0m\u001b[0mndim\u001b[0m \u001b[0;34m==\u001b[0m \u001b[0;36m0\u001b[0m\u001b[0;34m:\u001b[0m\u001b[0;34m\u001b[0m\u001b[0m\n\u001b[1;32m    400\u001b[0m             \u001b[0mcov\u001b[0m \u001b[0;34m=\u001b[0m \u001b[0mcov\u001b[0m \u001b[0;34m*\u001b[0m \u001b[0mnp\u001b[0m\u001b[0;34m.\u001b[0m\u001b[0meye\u001b[0m\u001b[0;34m(\u001b[0m\u001b[0mdim\u001b[0m\u001b[0;34m)\u001b[0m\u001b[0;34m\u001b[0m\u001b[0m\n",
      "\u001b[0;31mValueError\u001b[0m: Array 'mean' must be a vector of length 2."
     ]
    }
   ],
   "source": [
    "from scipy.stats import multivariate_normal\n",
    "import numpy as np\n",
    "\n",
    "mu_multi = np.mat(np.array([0., 0.]))\n",
    "Sigma_multi = np.mat(np.array([[ 1. , -0.5], [-0.5,  1.5]]))\n",
    "\n",
    "var = multivariate_normal(mean=mu_multi, cov=Sigma_multi)\n",
    "var.pdf([1,0])"
   ]
  },
  {
   "cell_type": "markdown",
   "metadata": {},
   "source": [
    "### 多変量ガウス(新版)"
   ]
  },
  {
   "cell_type": "code",
   "execution_count": 71,
   "metadata": {},
   "outputs": [
    {
     "name": "stdout",
     "output_type": "stream",
     "text": [
      "[[0. 0.]]\n",
      "[[ 1.  -0.5]\n",
      " [-0.5  1.5]]\n"
     ]
    },
    {
     "data": {
      "text/plain": [
       "-2.5494488420664503"
      ]
     },
     "execution_count": 71,
     "metadata": {},
     "output_type": "execute_result"
    }
   ],
   "source": [
    "from scipy.stats import multivariate_normal\n",
    "import numpy as np\n",
    "\n",
    "mu_multi = np.mat([0., 0.])\n",
    "Sigma_multi = np.mat([[ 1. , -0.5], [-0.5,  1.5]])\n",
    "\n",
    "mu_multi_l = mu_multi.tolist()\n",
    "Sigma_multi_l = Sigma_multi.tolist()\n",
    "\n",
    "print(mu_multi)\n",
    "print(Sigma_multi)\n",
    "\"\"\"print(mu_multi.tolist())\n",
    "print(Sigma_multi.tolist())\"\"\"\n",
    "\n",
    "var = multivariate_normal(mean=mu_multi_l[0], cov=Sigma_multi_l)\n",
    "var.logpdf([1,0])"
   ]
  },
  {
   "cell_type": "code",
   "execution_count": 4,
   "metadata": {},
   "outputs": [
    {
     "name": "stdout",
     "output_type": "stream",
     "text": [
      "(5, 5)\n",
      "(5, 1)\n",
      "(5, 1)\n",
      "[[0.72209691 0.         0.         0.         0.        ]\n",
      " [0.         0.35925657 0.         0.         0.        ]\n",
      " [0.         0.         0.19666301 0.         0.        ]\n",
      " [0.         0.         0.         0.40092148 0.        ]\n",
      " [0.         0.         0.         0.         0.79609214]]\n"
     ]
    },
    {
     "ename": "ValueError",
     "evalue": "cannot reshape array of size 25 into shape (1,1)",
     "output_type": "error",
     "traceback": [
      "\u001b[0;31m---------------------------------------------------------------------------\u001b[0m",
      "\u001b[0;31mValueError\u001b[0m                                Traceback (most recent call last)",
      "\u001b[0;32m<ipython-input-4-163b3fc8ce98>\u001b[0m in \u001b[0;36m<module>\u001b[0;34m()\u001b[0m\n\u001b[1;32m     44\u001b[0m     \u001b[0mY\u001b[0m\u001b[0;34m.\u001b[0m\u001b[0mappend\u001b[0m\u001b[0;34m(\u001b[0m\u001b[0my_l\u001b[0m\u001b[0;34m)\u001b[0m\u001b[0;34m\u001b[0m\u001b[0m\n\u001b[1;32m     45\u001b[0m \u001b[0;34m\u001b[0m\u001b[0m\n\u001b[0;32m---> 46\u001b[0;31m \u001b[0mp\u001b[0m \u001b[0;34m=\u001b[0m \u001b[0mmultivariate_normal\u001b[0m\u001b[0;34m(\u001b[0m\u001b[0mmean\u001b[0m\u001b[0;34m=\u001b[0m\u001b[0mpi_1\u001b[0m\u001b[0;34m[\u001b[0m\u001b[0;36m0\u001b[0m\u001b[0;34m]\u001b[0m\u001b[0;34m,\u001b[0m \u001b[0mcov\u001b[0m\u001b[0;34m=\u001b[0m\u001b[0mV_1\u001b[0m\u001b[0;34m)\u001b[0m\u001b[0;34m\u001b[0m\u001b[0m\n\u001b[0m\u001b[1;32m     47\u001b[0m \u001b[0mp\u001b[0m\u001b[0;34m.\u001b[0m\u001b[0mlogpdf\u001b[0m\u001b[0;34m(\u001b[0m\u001b[0mX\u001b[0m\u001b[0;34m[\u001b[0m\u001b[0;36m0\u001b[0m\u001b[0;34m]\u001b[0m\u001b[0;34m)\u001b[0m\u001b[0;34m\u001b[0m\u001b[0m\n",
      "\u001b[0;32m~/.pyenv/versions/3.5.2/lib/python3.5/site-packages/scipy/stats/_multivariate.py\u001b[0m in \u001b[0;36m__call__\u001b[0;34m(self, mean, cov, allow_singular, seed)\u001b[0m\n\u001b[1;32m    355\u001b[0m         return multivariate_normal_frozen(mean, cov,\n\u001b[1;32m    356\u001b[0m                                           \u001b[0mallow_singular\u001b[0m\u001b[0;34m=\u001b[0m\u001b[0mallow_singular\u001b[0m\u001b[0;34m,\u001b[0m\u001b[0;34m\u001b[0m\u001b[0m\n\u001b[0;32m--> 357\u001b[0;31m                                           seed=seed)\n\u001b[0m\u001b[1;32m    358\u001b[0m \u001b[0;34m\u001b[0m\u001b[0m\n\u001b[1;32m    359\u001b[0m     \u001b[0;32mdef\u001b[0m \u001b[0m_process_parameters\u001b[0m\u001b[0;34m(\u001b[0m\u001b[0mself\u001b[0m\u001b[0;34m,\u001b[0m \u001b[0mdim\u001b[0m\u001b[0;34m,\u001b[0m \u001b[0mmean\u001b[0m\u001b[0;34m,\u001b[0m \u001b[0mcov\u001b[0m\u001b[0;34m)\u001b[0m\u001b[0;34m:\u001b[0m\u001b[0;34m\u001b[0m\u001b[0m\n",
      "\u001b[0;32m~/.pyenv/versions/3.5.2/lib/python3.5/site-packages/scipy/stats/_multivariate.py\u001b[0m in \u001b[0;36m__init__\u001b[0;34m(self, mean, cov, allow_singular, seed, maxpts, abseps, releps)\u001b[0m\n\u001b[1;32m    724\u001b[0m         \u001b[0mself\u001b[0m\u001b[0;34m.\u001b[0m\u001b[0m_dist\u001b[0m \u001b[0;34m=\u001b[0m \u001b[0mmultivariate_normal_gen\u001b[0m\u001b[0;34m(\u001b[0m\u001b[0mseed\u001b[0m\u001b[0;34m)\u001b[0m\u001b[0;34m\u001b[0m\u001b[0m\n\u001b[1;32m    725\u001b[0m         self.dim, self.mean, self.cov = self._dist._process_parameters(\n\u001b[0;32m--> 726\u001b[0;31m                                                             None, mean, cov)\n\u001b[0m\u001b[1;32m    727\u001b[0m         \u001b[0mself\u001b[0m\u001b[0;34m.\u001b[0m\u001b[0mcov_info\u001b[0m \u001b[0;34m=\u001b[0m \u001b[0m_PSD\u001b[0m\u001b[0;34m(\u001b[0m\u001b[0mself\u001b[0m\u001b[0;34m.\u001b[0m\u001b[0mcov\u001b[0m\u001b[0;34m,\u001b[0m \u001b[0mallow_singular\u001b[0m\u001b[0;34m=\u001b[0m\u001b[0mallow_singular\u001b[0m\u001b[0;34m)\u001b[0m\u001b[0;34m\u001b[0m\u001b[0m\n\u001b[1;32m    728\u001b[0m         \u001b[0;32mif\u001b[0m \u001b[0;32mnot\u001b[0m \u001b[0mmaxpts\u001b[0m\u001b[0;34m:\u001b[0m\u001b[0;34m\u001b[0m\u001b[0m\n",
      "\u001b[0;32m~/.pyenv/versions/3.5.2/lib/python3.5/site-packages/scipy/stats/_multivariate.py\u001b[0m in \u001b[0;36m_process_parameters\u001b[0;34m(self, dim, mean, cov)\u001b[0m\n\u001b[1;32m    393\u001b[0m         \u001b[0;32mif\u001b[0m \u001b[0mdim\u001b[0m \u001b[0;34m==\u001b[0m \u001b[0;36m1\u001b[0m\u001b[0;34m:\u001b[0m\u001b[0;34m\u001b[0m\u001b[0m\n\u001b[1;32m    394\u001b[0m             \u001b[0mmean\u001b[0m\u001b[0;34m.\u001b[0m\u001b[0mshape\u001b[0m \u001b[0;34m=\u001b[0m \u001b[0;34m(\u001b[0m\u001b[0;36m1\u001b[0m\u001b[0;34m,\u001b[0m\u001b[0;34m)\u001b[0m\u001b[0;34m\u001b[0m\u001b[0m\n\u001b[0;32m--> 395\u001b[0;31m             \u001b[0mcov\u001b[0m\u001b[0;34m.\u001b[0m\u001b[0mshape\u001b[0m \u001b[0;34m=\u001b[0m \u001b[0;34m(\u001b[0m\u001b[0;36m1\u001b[0m\u001b[0;34m,\u001b[0m \u001b[0;36m1\u001b[0m\u001b[0;34m)\u001b[0m\u001b[0;34m\u001b[0m\u001b[0m\n\u001b[0m\u001b[1;32m    396\u001b[0m \u001b[0;34m\u001b[0m\u001b[0m\n\u001b[1;32m    397\u001b[0m         \u001b[0;32mif\u001b[0m \u001b[0mmean\u001b[0m\u001b[0;34m.\u001b[0m\u001b[0mndim\u001b[0m \u001b[0;34m!=\u001b[0m \u001b[0;36m1\u001b[0m \u001b[0;32mor\u001b[0m \u001b[0mmean\u001b[0m\u001b[0;34m.\u001b[0m\u001b[0mshape\u001b[0m\u001b[0;34m[\u001b[0m\u001b[0;36m0\u001b[0m\u001b[0;34m]\u001b[0m \u001b[0;34m!=\u001b[0m \u001b[0mdim\u001b[0m\u001b[0;34m:\u001b[0m\u001b[0;34m\u001b[0m\u001b[0m\n",
      "\u001b[0;31mValueError\u001b[0m: cannot reshape array of size 25 into shape (1,1)"
     ]
    }
   ],
   "source": [
    "import numpy as np\n",
    "from scipy.stats import multivariate_normal\n",
    "\n",
    "#テストデータ生成(次元を自由に変更可能)\n",
    "dms = 5\n",
    "dmo = 5\n",
    "dt = 0.1\n",
    "ums = np.mat(np.eye(dms))\n",
    "umo = np.mat(np.eye(dmo))\n",
    "\n",
    "x =np.mat(np.zeros([dms, 1]))\n",
    "A = np.mat(np.eye(dms, dms))\n",
    "C = np.mat(np.eye(dmo, dms))\n",
    "Q = np.mat(np.eye(dms, dms))\n",
    "R = np.mat(np.eye(dmo, dmo))\n",
    "pi_1 = np.mat(np.random.rand(dms,1))\n",
    "V_1_u = np.mat(np.random.rand(dms,dms))\n",
    "V_1 = np.multiply(V_1_u, ums)\n",
    "\n",
    "\"\"\"print(len((pi_1.T)[0]))\n",
    "print(len(pi_1))\n",
    "print((pi_1.T)[0])\n",
    "print(pi_1)\"\"\"\n",
    "print(V_1.shape)\n",
    "print(pi_1.shape)\n",
    "print(x.shape)\n",
    "print(V_1)\n",
    "#print(x)\n",
    "    \n",
    "X = [] # 状態\n",
    "Y = [] # 観測\n",
    "K = 10 # サンプル数\n",
    "for i in range(K):\n",
    "    #x = A * x + np.mat(np.random.multivariate_normal((0,0),Q)).T\n",
    "    #x = A * x + np.mat(np.random.multivariate_normal(np.zeros(dms).tolist(),Q)).T\n",
    "    #y = C * x + np.mat(np.random.normal(0,1)).T\n",
    "    #y = C * x + np.mat(np.random.normal(np.zeros(dmo).tolist(),R)).T \n",
    "    x = A * x + np.mat(np.random.multivariate_normal(np.zeros(dms).tolist(),Q)).T\n",
    "    y = C * x + np.mat(np.random.multivariate_normal(np.zeros(dmo).tolist(),R)).T\n",
    "    x_l = x.tolist()\n",
    "    y_l = y.tolist()\n",
    "    \n",
    "    X.append(x_l)\n",
    "    Y.append(y_l)\n",
    "\n",
    "p = multivariate_normal(mean=pi_1[0], cov=V_1)\n",
    "p.logpdf(X[0])    "
   ]
  },
  {
   "cell_type": "markdown",
   "metadata": {},
   "source": [
    "### 無限ループ"
   ]
  },
  {
   "cell_type": "code",
   "execution_count": 2,
   "metadata": {},
   "outputs": [
    {
     "name": "stdout",
     "output_type": "stream",
     "text": [
      "0\n",
      "1\n",
      "2\n",
      "3\n",
      "4\n",
      "5\n",
      "6\n",
      "7\n",
      "8\n",
      "9\n"
     ]
    }
   ],
   "source": [
    "import numpy as np\n",
    "\n",
    "a = 1\n",
    "i = 0\n",
    "\n",
    "while(1):\n",
    "    a = a + 1\n",
    "    print(i)\n",
    "    \n",
    "    if(a > 10):\n",
    "        break\n",
    "    \n",
    "    i = i + 1\n"
   ]
  },
  {
   "cell_type": "markdown",
   "metadata": {},
   "source": [
    "### ファイル保存の上書き阻止のためのループごとに名前を変える"
   ]
  },
  {
   "cell_type": "code",
   "execution_count": 2,
   "metadata": {},
   "outputs": [
    {
     "name": "stdout",
     "output_type": "stream",
     "text": [
      "img_0/file\n",
      "img_1/file\n",
      "img_2/file\n",
      "img_3/file\n",
      "img_4/file\n",
      "img_5/file\n",
      "img_6/file\n",
      "img_7/file\n",
      "img_8/file\n",
      "img_9/file\n"
     ]
    }
   ],
   "source": [
    "import os\n",
    "\n",
    "N = 10\n",
    "\n",
    "for i in range(N):\n",
    "    print(\"img_\"+str(i)+\"/file\")\n"
   ]
  },
  {
   "cell_type": "markdown",
   "metadata": {},
   "source": [
    "### リスト内の要素を選んで，その要素がリスト内で何番目か取得する．"
   ]
  },
  {
   "cell_type": "code",
   "execution_count": 28,
   "metadata": {},
   "outputs": [
    {
     "name": "stdout",
     "output_type": "stream",
     "text": [
      "index\n",
      "[9, 0, 5]\n",
      "\n",
      "リストa\n",
      "[0.83135415 0.60218402 0.33465264 0.18142314 0.82473213 0.08991363\n",
      " 0.64184529 0.42127435 0.26905297 0.90680775]\n",
      "\n"
     ]
    },
    {
     "data": {
      "text/plain": [
       "[0.906807747793139, 0.831354149124171, 0.08991362951743531]"
      ]
     },
     "execution_count": 28,
     "metadata": {},
     "output_type": "execute_result"
    }
   ],
   "source": [
    "import numpy as np\n",
    "import random\n",
    "\n",
    "batch_size = 3\n",
    "\n",
    "ind = random.sample(range(10), batch_size)\n",
    "print(\"index\\n%s\\n\" %ind)\n",
    "\n",
    "#a = np.random.rand(10).tolist()\n",
    "a = np.random.rand(10)\n",
    "print(\"リストa\\n%s\\n\" %a)\n",
    "\n",
    "b = [a[i] for i in ind ]\n",
    "\n",
    "b"
   ]
  },
  {
   "cell_type": "markdown",
   "metadata": {},
   "source": [
    "### 引数の無い関数"
   ]
  },
  {
   "cell_type": "code",
   "execution_count": 5,
   "metadata": {},
   "outputs": [
    {
     "data": {
      "text/plain": [
       "15"
      ]
     },
     "execution_count": 5,
     "metadata": {},
     "output_type": "execute_result"
    }
   ],
   "source": [
    "import numpy as np\n",
    "\n",
    "def a_add():\n",
    "    a = 5\n",
    "    return a\n",
    "\n",
    "y = 10 + a_add()\n",
    "y"
   ]
  }
 ],
 "metadata": {
  "kernelspec": {
   "display_name": "Python 3",
   "language": "python",
   "name": "python3"
  },
  "language_info": {
   "codemirror_mode": {
    "name": "ipython",
    "version": 3
   },
   "file_extension": ".py",
   "mimetype": "text/x-python",
   "name": "python",
   "nbconvert_exporter": "python",
   "pygments_lexer": "ipython3",
   "version": "3.5.2"
  }
 },
 "nbformat": 4,
 "nbformat_minor": 2
}
