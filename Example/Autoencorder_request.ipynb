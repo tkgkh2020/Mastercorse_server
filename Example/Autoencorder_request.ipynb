{
 "cells": [
  {
   "cell_type": "markdown",
   "metadata": {},
   "source": [
    "# Autoencoder\n",
    "## 入力 3ユニット　中間層 1ユニット　出力層　3ユニット\n",
    "## ただし、3つの入力 x1, x2, x3は　x1 > x2 and x3=0"
   ]
  },
  {
   "cell_type": "code",
   "execution_count": 2,
   "metadata": {},
   "outputs": [],
   "source": [
    "import tensorflow as tf\n",
    "import numpy as np\n",
    "from numpy.random import *"
   ]
  },
  {
   "cell_type": "code",
   "execution_count": 2,
   "metadata": {},
   "outputs": [
    {
     "data": {
      "text/plain": [
       "'X = np.array(([10, 4, 0], [12, 5, 0],[11, 2, 0],[18, 5, 0],[20, 3, 0],[10, 7, 0],[20, 1, 0],[17, 9, 0],[15, 8, 0]))\\nY = np.array(([10, 4, 0], [12, 5, 0],[11, 2, 0],[18, 5, 0],[20, 3, 0],[10, 7, 0],[20, 1, 0],[17, 9, 0],[15, 8, 0]))'"
      ]
     },
     "execution_count": 2,
     "metadata": {},
     "output_type": "execute_result"
    }
   ],
   "source": [
    "\"\"\"X = np.array(([10, 4, 0], [12, 5, 0],[11, 2, 0],[18, 5, 0],[20, 3, 0],[10, 7, 0],[20, 1, 0],[17, 9, 0],[15, 8, 0]))\n",
    "Y = np.array(([10, 4, 0], [12, 5, 0],[11, 2, 0],[18, 5, 0],[20, 3, 0],[10, 7, 0],[20, 1, 0],[17, 9, 0],[15, 8, 0]))\"\"\""
   ]
  },
  {
   "cell_type": "code",
   "execution_count": 3,
   "metadata": {},
   "outputs": [
    {
     "data": {
      "text/plain": [
       "'seed(seed = 21) #It fixed generated random number  \\nX=[]\\nfor i in range(100):\\n    sample_of_X = [i+200+np.random.uniform(-100, 100), i+np.random.uniform(-100, 100), i*0 ]\\n    X.append(sample_of_X)\\nY=X'"
      ]
     },
     "execution_count": 3,
     "metadata": {},
     "output_type": "execute_result"
    }
   ],
   "source": [
    "#100 data generated  \n",
    "\"\"\"seed(seed = 21) #It fixed generated random number  \n",
    "X=[]\n",
    "for i in range(100):\n",
    "    sample_of_X = [i+200+np.random.uniform(-100, 100), i+np.random.uniform(-100, 100), i*0 ]\n",
    "    X.append(sample_of_X)\n",
    "Y=X\"\"\"\n",
    "#np.array(Y)"
   ]
  },
  {
   "cell_type": "code",
   "execution_count": 4,
   "metadata": {},
   "outputs": [
    {
     "data": {
      "text/plain": [
       "[[0.04872488080912729, 0.09744976161825458, 0],\n",
       " [0.28910965978981684, 0.5782193195796337, 0],\n",
       " [0.7209663468312298, 1.4419326936624597, 0],\n",
       " [0.021616249915949792, 0.043232499831899585, 0],\n",
       " [0.20592276526743902, 0.41184553053487805, 0],\n",
       " [0.0507732566953768, 0.1015465133907536, 0],\n",
       " [0.30227189396461684, 0.6045437879292337, 0],\n",
       " [0.6639102946247, 1.3278205892494, 0],\n",
       " [0.30811439323687884, 0.6162287864737577, 0],\n",
       " [0.5835912762185987, 1.1671825524371975, 0]]"
      ]
     },
     "execution_count": 4,
     "metadata": {},
     "output_type": "execute_result"
    }
   ],
   "source": [
    "#100 data generated2\n",
    "import numpy as np\n",
    "\n",
    "seed(seed = 21)\n",
    "X=[]\n",
    "x3=0\n",
    "for i in range(10):\n",
    "    sample_of_X=[]\n",
    "    x1 = np.random.uniform(0, 1)\n",
    "    x2 = x1*2\n",
    "    sample_of_X.append(x1)\n",
    "    sample_of_X.append(x2)\n",
    "    sample_of_X.append(x3)\n",
    "    X.append(sample_of_X)\n",
    "Y=X\n",
    "#np.array(X)\n",
    "X"
   ]
  },
  {
   "cell_type": "code",
   "execution_count": 5,
   "metadata": {},
   "outputs": [
    {
     "name": "stdout",
     "output_type": "stream",
     "text": [
      "<tf.Variable 'Variable_1:0' shape=(3, 1) dtype=float32_ref>\n",
      "<tf.Variable 'Variable_2:0' shape=(1, 3) dtype=float32_ref>\n"
     ]
    }
   ],
   "source": [
    "w_enc = tf.Variable(tf.Variable(tf.ones([3, 1])))\n",
    "print(w_enc)\n",
    "w_enc = tf.Variable([[1, 0.5, 0]])\n",
    "print(w_enc)"
   ]
  },
  {
   "cell_type": "code",
   "execution_count": 6,
   "metadata": {},
   "outputs": [
    {
     "name": "stdout",
     "output_type": "stream",
     "text": [
      "epoch: 0\n",
      "w_enc [[1. ]\n",
      " [0.5]\n",
      " [0. ]]\n",
      "w_dec [[0.5 1.  0. ]]\n",
      "\n",
      "epoch: 100\n",
      "w_enc [[1. ]\n",
      " [0.5]\n",
      " [0. ]]\n",
      "w_dec [[0.5 1.  0. ]]\n",
      "\n",
      "epoch: 200\n",
      "w_enc [[1. ]\n",
      " [0.5]\n",
      " [0. ]]\n",
      "w_dec [[0.5 1.  0. ]]\n",
      "\n",
      "epoch: 300\n",
      "w_enc [[1. ]\n",
      " [0.5]\n",
      " [0. ]]\n",
      "w_dec [[0.5 1.  0. ]]\n",
      "\n",
      "epoch: 400\n",
      "w_enc [[1. ]\n",
      " [0.5]\n",
      " [0. ]]\n",
      "w_dec [[0.5 1.  0. ]]\n",
      "\n",
      "epoch: 500\n",
      "w_enc [[1. ]\n",
      " [0.5]\n",
      " [0. ]]\n",
      "w_dec [[0.5 1.  0. ]]\n",
      "\n",
      "epoch: 600\n",
      "w_enc [[1. ]\n",
      " [0.5]\n",
      " [0. ]]\n",
      "w_dec [[0.5 1.  0. ]]\n",
      "\n",
      "epoch: 700\n",
      "w_enc [[1. ]\n",
      " [0.5]\n",
      " [0. ]]\n",
      "w_dec [[0.5 1.  0. ]]\n",
      "\n",
      "epoch: 800\n",
      "w_enc [[1. ]\n",
      " [0.5]\n",
      " [0. ]]\n",
      "w_dec [[0.5 1.  0. ]]\n",
      "\n",
      "epoch: 900\n",
      "w_enc [[1. ]\n",
      " [0.5]\n",
      " [0. ]]\n",
      "w_dec [[0.5 1.  0. ]]\n",
      "\n",
      "epoch: 1000\n",
      "w_enc [[1. ]\n",
      " [0.5]\n",
      " [0. ]]\n",
      "w_dec [[0.5 1.  0. ]]\n",
      "\n"
     ]
    }
   ],
   "source": [
    "import tensorflow as tf\n",
    "\n",
    "# Variables\n",
    "x = tf.placeholder(tf.float32, [None, 3])\n",
    "t = tf.placeholder(tf.float32, [None, 3])\n",
    "\n",
    "# weight\n",
    "#w_enc = tf.Variable(tf.random_normal([3, 1], mean=0.0, stddev=0.05))\n",
    "#w_dec = tf.Variable(tf.random_normal([1, 3], mean=0.0, stddev=0.05))\n",
    "#w_dec = tf.Variable(tf.ones([1, 3]))\n",
    "w_enc = tf.Variable([[1], [0.5], [0]])\n",
    "w_dec = tf.Variable([[0.5, 1, 0]])\n",
    "#w_dec = tf.Variable(tf.constant([0.5, 1, 0]))\n",
    "\n",
    "# weight of bias\n",
    "#b_enc = tf.Variable(tf.zeros([1]))\n",
    "#b_dec = tf.Variable(tf.zeros([3]))\n",
    "\n",
    "#output of layer\n",
    "#h = tf.nn.sigmoid(tf.matmul(x, w_enc) + b_enc)\n",
    "#y = tf.nn.sigmoid(tf.matmul(h, w_dec) + b_dec)\n",
    "#h = tf.nn.sigmoid(tf.matmul(x, w_enc))\n",
    "#y = tf.nn.sigmoid(tf.matmul(h, w_dec))\n",
    "h = tf.matmul(x, w_enc)\n",
    "y = tf.matmul(h, w_dec)\n",
    "\n",
    "#error_function\n",
    "square_error = tf.reduce_sum(tf.square(t - y))\n",
    "\n",
    "#optimizer\n",
    "train_step = tf.train.GradientDescentOptimizer(0.01).minimize(square_error)\n",
    "\n",
    "#lerning and result\n",
    "init = tf.global_variables_initializer()\n",
    "sess = tf.Session()\n",
    "sess.run(init)\n",
    "\n",
    "for epoch in range(1001):\n",
    "    sess.run(train_step, feed_dict={\n",
    "        x:X,\n",
    "        t:Y\n",
    "    })\n",
    "    \"\"\"square_errors =square_error.eval(session=sess, feed_dict={\n",
    "        x:X,\n",
    "        t:Y\n",
    "    })\"\"\"\n",
    "    if epoch % 100 == 0 or epoch==1000+1 :\n",
    "        print('epoch:', epoch)\n",
    "        print('w_enc', sess.run(w_enc))\n",
    "        #print('b_enc', sess.run(b_enc))\n",
    "        print('w_dec', sess.run(w_dec))\n",
    "        #print('b_dec', sess.run(b_dec))\n",
    "        #print('square_error', )\n",
    "        #print(square_errors)\n",
    "        print()"
   ]
  }
 ],
 "metadata": {
  "kernelspec": {
   "display_name": "Python 3",
   "language": "python",
   "name": "python3"
  },
  "language_info": {
   "codemirror_mode": {
    "name": "ipython",
    "version": 3
   },
   "file_extension": ".py",
   "mimetype": "text/x-python",
   "name": "python",
   "nbconvert_exporter": "python",
   "pygments_lexer": "ipython3",
   "version": "3.5.2"
  }
 },
 "nbformat": 4,
 "nbformat_minor": 2
}
